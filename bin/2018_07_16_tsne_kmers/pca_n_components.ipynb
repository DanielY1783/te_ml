{
 "cells": [
  {
   "cell_type": "markdown",
   "metadata": {},
   "source": [
    "Author: Daniel Yan\n",
    "\n",
    "Date: 2018-07-16\n",
    "\n",
    "Email: daniel.yan@vanderbilt.edu\n",
    "\n",
    "Description:\n",
    "PCA on data to reduce to \"n\" components for TSNE. \n",
    "\n",
    "Command Line Arguments:\n",
    "First command line argument: Data file to transform. Include directory.\n",
    "Second command line argument: File to store transformed coordinates. Include directory.\n",
    "Third command line argument: File to store the PCA model. Include directory. Must be loaded again\n",
    "    using Scikit-learn joblib.load on same architecture.\n",
    "Fourth command line argument: File to store explained variance to. Include directory.\n",
    "Fifth command line argument: Integer number of components to reduce to.\n",
    "\n",
    "Exception will be thrown if any arguments are missing or invalid.\n",
    "\n",
    "\n",
    "Data file format:\n",
    "The features to be transformed should be 6-mer counts in columns named \"aaaaaa\" to \"tttttt\". Each row should have a label in a column named \"label\"\n",
    "\n",
    "Output file format:\n",
    "The transformed coordinates will be in columns 0 to \"n-1\" of the output file, and the labels will be in column \"n\" of the output file."
   ]
  },
  {
   "cell_type": "code",
   "execution_count": null,
   "metadata": {},
   "outputs": [],
   "source": [
    "# Libaries\n",
    "import pandas as pd # Data manipulation \n",
    "import sys # Command line arguments\n",
    "import pca # Labeling components\n",
    "from sklearn.decomposition import IncrementalPCA # Incremental PCA on large data set\n",
    "from sklearn.externals import joblib # Save PCA model"
   ]
  },
  {
   "cell_type": "code",
   "execution_count": null,
   "metadata": {},
   "outputs": [],
   "source": []
  },
  {
   "cell_type": "code",
   "execution_count": null,
   "metadata": {},
   "outputs": [],
   "source": [
    "if __name__ == \"__main__\"\n",
    "    # Get data file to process\n",
    "    data_file = sys.argv[1]\n",
    "    # Get file to store transformed coordinates\n",
    "    cords_file = sys.argv[2]\n",
    "    # Get file to store PCA model to\n",
    "    model_file = sys.argv[3]\n",
    "    # Get file to store explained variances to\n",
    "    variances_file = sys.argv[4]\n",
    "    # Get number of components to reduce to using PCA\n",
    "    n_components = sys.argb[5]"
   ]
  },
  {
   "cell_type": "code",
   "execution_count": null,
   "metadata": {},
   "outputs": [],
   "source": []
  }
 ],
 "metadata": {
  "kernelspec": {
   "display_name": "Python 3",
   "language": "python",
   "name": "python3"
  },
  "language_info": {
   "codemirror_mode": {
    "name": "ipython",
    "version": 3
   },
   "file_extension": ".py",
   "mimetype": "text/x-python",
   "name": "python",
   "nbconvert_exporter": "python",
   "pygments_lexer": "ipython3",
   "version": "3.6.4"
  }
 },
 "nbformat": 4,
 "nbformat_minor": 2
}
