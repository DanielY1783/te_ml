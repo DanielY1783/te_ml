{
 "cells": [
  {
   "cell_type": "markdown",
   "metadata": {},
   "source": [
    "Drops duplicate hervs from the file /dors/capra_lab/users/yand1/te_ml/data/2018_06_25_kmers_hervs/full_hervs.tsv\n",
    "by looking at chromosome, start, end, and herv name. Stores the new\n",
    "data frame with these four columns to \n",
    "/dors/capra_lab/users/yand1/te_ml/data/2018_06_25_kmers_hervs/no_dups_hervs.tsv"
   ]
  },
  {
   "cell_type": "code",
   "execution_count": null,
   "metadata": {},
   "outputs": [],
   "source": [
    "# Libraries\n",
    "import pandas as pd"
   ]
  },
  {
   "cell_type": "code",
   "execution_count": null,
   "metadata": {},
   "outputs": [],
   "source": [
    "# Class constants\n",
    "DATE = \"2018_06_25_kmers_hervs/\" \n",
    "DIRECTORY = \"/dors/capra_lab/users/yand1/te_ml/\" # Root directory\n",
    "DATA_FILE = \"full_hervs.tsv\" # Name of data file to process\n",
    "WRITE_FILE = \"no_dups_hervs.tsv\" # Name of file to write to\n",
    "CHROMOSOME = 0 # Column for the chromosome number of transposable element\n",
    "START = 1 # Column for the start location of transposable element\n",
    "END = 2 # Column for the end location of transposable element\n",
    "HERV = 3 # Column for the transposable element of class HERV/ERV"
   ]
  },
  {
   "cell_type": "code",
   "execution_count": null,
   "metadata": {},
   "outputs": [],
   "source": [
    "## Main\n",
    "herv_df = pd.read_table((DIRECTORY + \"data/\" + DATE + DATA_FILE), header = None) # Old data frame\n",
    "new_herv_df = pd.DataFrame(columns = [\"chr\", \"start\", \"end\", \"herv\"])\n",
    "new_herv_df[\"chr\"] = herv_df.iloc[:,CHROMOSOME]\n",
    "new_herv_df[\"start\"] = herv_df.iloc[:,START]\n",
    "new_herv_df[\"end\"] = herv_df.iloc[:,END]\n",
    "\n",
    "# Delete repeats from the data frame.\n",
    "no_dups_df = new_herv_df.drop_duplicates()\n",
    "\n",
    "# Save to file\n",
    "no_dups_df.to_csv(DIRECTORY + \"data/\" + DATE + WRITE_FILE)"
   ]
  }
 ],
 "metadata": {
  "kernelspec": {
   "display_name": "Python 3",
   "language": "python",
   "name": "python3"
  },
  "language_info": {
   "codemirror_mode": {
    "name": "ipython",
    "version": 3
   },
   "file_extension": ".py",
   "mimetype": "text/x-python",
   "name": "python",
   "nbconvert_exporter": "python",
   "pygments_lexer": "ipython3",
   "version": "3.6.4"
  }
 },
 "nbformat": 4,
 "nbformat_minor": 2
}
