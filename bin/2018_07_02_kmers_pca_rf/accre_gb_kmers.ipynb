{
 "cells": [
  {
   "cell_type": "markdown",
   "metadata": {},
   "source": [
    "accre version of a gradient boosting classifier run on the full HERVS kmers feature matrix at:\n",
    "/dors/capra_lab/users/yand1/te_ml/data/2018_06_29_kmers_enhancers_intersect/reformatted_hervs_kmers_intersect_enhancers.tsv"
   ]
  },
  {
   "cell_type": "code",
   "execution_count": 1,
   "metadata": {},
   "outputs": [],
   "source": [
    "# Import needed libraries\n",
    "import pandas as pd # For getting data\n",
    "from sklearn import metrics # Get model metrics\n",
    "from sklearn.ensemble import GradientBoostingClassifier\n",
    "from sklearn.model_selection import train_test_split # For data splitting\n",
    "from sklearn.model_selection import cross_val_score # Cross validation"
   ]
  },
  {
   "cell_type": "code",
   "execution_count": 2,
   "metadata": {},
   "outputs": [],
   "source": [
    "# Class constants\n",
    "DATE_DIR = \"2018_07_02_kmers_pca_rf/\" # Directory associated with current date \n",
    "DIRECTORY = \"/dors/capra_lab/users/yand1/te_ml/\" # Root directory for project\n",
    "DATA_FILE = \"reformatted_hervs_kmers_intersect_enhancers.tsv\" # Data file with feature matrix\n",
    "CROSS_VAL = 10 # Number of subdivisions of data for cross validation\n",
    "FIRST_KMER = \"aaaaaa\" # Label for first column of kmer counts\n",
    "LAST_KMER = \"tttttt\" # Label for last column of kmer counts\n",
    "ENHANCER_OVERLAP = \"enhancer\" # Label for column with 1 or 0 value for if HERV overlaps with enhancer."
   ]
  },
  {
   "cell_type": "code",
   "execution_count": 3,
   "metadata": {},
   "outputs": [],
   "source": [
    "def cross_validate(model, x, y):\n",
    "    \"\"\"Performs k-fold cross validation on the model and prints results to file.\n",
    "    \n",
    "    Args:\n",
    "        model(sklearn.GradientBoostingClassifier): Machine Learning model to train and predict.\n",
    "        x(pd.DataFrame): Features for model (kmer counts within HERVs).\n",
    "        y(pd.DataFrame): Prediction vector for model (HERV overlap with enhancer).\n",
    "    \"\"\"\n",
    "    # Test random forest model using cross validation.\n",
    "    cvs = cross_val_score(model, x, y, scoring = \"f1_macro\", cv = CROSS_VAL)\n",
    "    \n",
    "    # Print the cross validation scores to a file.\n",
    "    cvs_df = pd.DataFrame(data = cvs, columns = [\"f1 score\"])\n",
    "    cvs_df.to_csv((DIRECTORY + \"results/\" + DATE_DIR + \"rf_cross_val_scores.csv\"), \n",
    "                  sep = '\\t', index = False)"
   ]
  },
  {
   "cell_type": "code",
   "execution_count": 4,
   "metadata": {},
   "outputs": [],
   "source": [
    "def predictions(model, x, y):\n",
    "    \"\"\"Trains and generates predictions from the given model and prints out metrics.\n",
    "    \n",
    "    Args:\n",
    "        model(sklearn.GradientBoostingClassifier): Machine Learning model to test\n",
    "        x(pd.DataFrame): Features. In this case, it is kmer counts within HERVs.\n",
    "        y(pd.DataFrame): What to predict. In this case, it is HERV overlap with enhancer.\n",
    "    \"\"\"\n",
    "    # Split into training and testing set.\n",
    "    x_train, x_test, y_train, y_test = train_test_split(x, y)\n",
    "    \n",
    "    # Train the model on training data.\n",
    "    model.fit(x_train, y_train)\n",
    "    \n",
    "    # Use the model to predict the test set.\n",
    "    y_pred = model.predict(x_test)\n",
    "    \n",
    "    # Create a confusion matrix and write to file.\n",
    "    cm_df = pd.DataFrame(metrics.confusion_matrix(y_test, y_pred), index = [\"actual_negative\", \"actual_positive\"]\n",
    "                    , columns = [\"predicted_negative\", \"predicted_positive\"])\n",
    "    cm_df.to_csv((DIRECTORY + \"results/\" + DATE_DIR + \"rf_confusion_matrix.tsv\"), sep = '\\t')\n",
    "    \n",
    "    # Create a file to store metrics.\n",
    "    with open((DIRECTORY + \"results/\" + DATE_DIR + \"rf_metrics.txt\"), \"w+\") as metrics_file:\n",
    "        metrics_file.write(metrics.classification_report(y_test, y_pred))"
   ]
  },
  {
   "cell_type": "code",
   "execution_count": 5,
   "metadata": {},
   "outputs": [],
   "source": [
    "def main():\n",
    "    \"\"\"Main function\n",
    "    \"\"\"\n",
    "    features_df = pd.read_table(DIRECTORY + \"data/2018_06_29_kmers_enhancers_intersect/\" + DATA_FILE)\n",
    "    \n",
    "    # Get \"x\" and \"y\" for machine learning input.\n",
    "    x_df = features_df.loc[:,FIRST_KMER:LAST_KMER]\n",
    "    y_df = features_df.loc[:,ENHANCER_OVERLAP]\n",
    "    \n",
    "    # Create a gradient boosting classifier model.\n",
    "    gbc = GradientBoostingClassifier\n",
    "    \n",
    "    # Test random forest model using cross validation.\n",
    "    cross_validate(model = gbc, x = x_df, y = y_df)\n",
    "    \n",
    "    # Generate predictions and get metrics.\n",
    "    predictions(model = gbc, x = x_df, y = y_df)"
   ]
  },
  {
   "cell_type": "code",
   "execution_count": 6,
   "metadata": {},
   "outputs": [],
   "source": [
    "# Call main to run\n",
    "main()"
   ]
  }
 ],
 "metadata": {
  "kernelspec": {
   "display_name": "Python 3",
   "language": "python",
   "name": "python3"
  },
  "language_info": {
   "codemirror_mode": {
    "name": "ipython",
    "version": 3
   },
   "file_extension": ".py",
   "mimetype": "text/x-python",
   "name": "python",
   "nbconvert_exporter": "python",
   "pygments_lexer": "ipython3",
   "version": "3.6.4"
  }
 },
 "nbformat": 4,
 "nbformat_minor": 2
}
