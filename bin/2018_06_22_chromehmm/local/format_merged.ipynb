{
 "cells": [
  {
   "cell_type": "markdown",
   "metadata": {},
   "source": [
    "Formats /dors/capra_lab/users/yand1/te_ml/data/2018_06_22_chromehmm/merged_encode_broad_HMM_hg38.tsv\n",
    "by removing the last column and only keeping chromosome, start location, and end location and writing\n",
    "the result to /dors/capra_lab/users/yand1/te_ml/data/2018_06_22_chromehmm/hmm_enhancers.tsv"
   ]
  },
  {
   "cell_type": "code",
   "execution_count": null,
   "metadata": {},
   "outputs": [],
   "source": [
    "# Class Constants\n",
    "DATE = \"2018_06_22_chromehmm/\" \n",
    "DIRECTORY = \"../../../\" # Root directory\n",
    "DATA_FILE = \"merged_encode_broad_HMM_hg38.tsv\" # Name of data file to process\n",
    "CHR = 0 # Column of chromosome\n",
    "START = 1 # Column of start location\n",
    "END = 2 # Column of end location"
   ]
  },
  {
   "cell_type": "code",
   "execution_count": null,
   "metadata": {},
   "outputs": [],
   "source": [
    "# Open the file to process\n",
    "data_file = open(DIRECTORY + \"data/\" + DATE + DATA_FILE, \"r\")\n",
    "# Open the file to write to\n",
    "write_file = open(DIRECTORY + \"data/\" + DATE + \"hmm_enhancers.tsv\", \"w+\")"
   ]
  },
  {
   "cell_type": "code",
   "execution_count": null,
   "metadata": {},
   "outputs": [],
   "source": [
    "for line in data_file:\n",
    "    # Get a list of values for each columns split by whitespace.\n",
    "    values_list = line.split()\n",
    "    print(values_list)\n",
    "    # Write the chromosome\n",
    "    write_file.write(values_list[CHR] + '\\t')\n",
    "    # Write the start location\n",
    "    write_file.write(values_list[START] + '\\t')\n",
    "    # Write the end location\n",
    "    write_file.write(values_list[END] + '\\n')\n",
    "\n",
    "# Close the files\n",
    "data_file.close()\n",
    "write_file.close()"
   ]
  }
 ],
 "metadata": {
  "kernelspec": {
   "display_name": "Python 3",
   "language": "python",
   "name": "python3"
  },
  "language_info": {
   "codemirror_mode": {
    "name": "ipython",
    "version": 3
   },
   "file_extension": ".py",
   "mimetype": "text/x-python",
   "name": "python",
   "nbconvert_exporter": "python",
   "pygments_lexer": "ipython3",
   "version": "3.6.4"
  }
 },
 "nbformat": 4,
 "nbformat_minor": 2
}
