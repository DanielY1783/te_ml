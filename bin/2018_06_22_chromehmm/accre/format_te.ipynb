{
 "cells": [
  {
   "cell_type": "markdown",
   "metadata": {},
   "source": [
    "Converts old file (/dors/capra_lab/users/yand1/te_ml/data/2018_06_21_chromehmm_te/all_TE_fimo_out.txt) with overlap between transposable elements and transcription factors to\n",
    "a new file (/dors/capra_lab/users/yand1/te_ml/data/2018_06_22_chromehmm/te_tf_intersect_formatted.tsv) with different column order and some columns removed/reformatted."
   ]
  },
  {
   "cell_type": "code",
   "execution_count": 1,
   "metadata": {},
   "outputs": [],
   "source": [
    "# Import needed libaries\n",
    "import re # For string splitting"
   ]
  },
  {
   "cell_type": "code",
   "execution_count": 2,
   "metadata": {},
   "outputs": [],
   "source": [
    "# Class constants\n",
    "DATE = \"2018_06_22_chromehmm/\" \n",
    "DIRECTORY = \"/dors/capra_lab/users/yand1/te_ml/\" # Root directory\n",
    "DATA_FILE = \"all_TE_fimo_out.txt\" # Name of data file to process\n",
    "TF_NAME_OLD = 0 # Column of transcription factor name in the old file\n",
    "TE_NAME_OLD = 1 # Column of transposable element in the old file\n",
    "TE_LOCATION_OLD = 2 # Column location string of the transposable element in the old file\n",
    "TF_START_OLD = 3 # Column with transcription factor start location offset in the old file\n",
    "TF_END_OLD = 4 # Column with transcription factor end location offset in the old file"
   ]
  },
  {
   "cell_type": "code",
   "execution_count": 3,
   "metadata": {},
   "outputs": [],
   "source": [
    "## Main\n",
    "\n",
    "# Open the file to process\n",
    "data_file = open(DIRECTORY + \"data/\" + \"2018_06_21_chromehmm_te/\" + DATA_FILE, \"r\")\n",
    "\n",
    "# Open the file to write to\n",
    "write_file = open(DIRECTORY + \"data/\" + DATE + \"te_tf_intersect_formatted.tsv\", \"w+\")\n",
    "\n",
    "count = 0;\n",
    "\n",
    "# Go through all lines in the file\n",
    "for line in data_file:\n",
    "    # Get a list of values for each columns split by whitespace.\n",
    "    values_list = line.split()\n",
    "    \n",
    "    # Get the string with the location of transposable element\n",
    "    te_location_str = values_list[TE_LOCATION_OLD]\n",
    "    # Get chromsome, start, and end of transposable element\n",
    "    te_location_list = re.split(\":|-\", te_location_str)\n",
    "    # Store the string for the chromosome, start, and end of transposable element\n",
    "    chromosome_str = te_location_list[0]\n",
    "    te_start_int = int(te_location_list[1])\n",
    "    te_end_int = int(te_location_list[2])\n",
    "    \n",
    "    # Truncate chromosome string if needed\n",
    "    if (len(chromosome_str) > 5):\n",
    "        chromosome_str = chromosome_str[0:5]\n",
    "    \n",
    "    # Get the start location of transcription factor by adding offset and then subtracting 1\n",
    "    # because of 1 based indexing\n",
    "    tf_start_int = te_start_int + int(values_list[TF_START_OLD]) - 1\n",
    "    # Get the end location of transcription factor by adding offset. No need to subtract\n",
    "    # 1 for 1 based indexing because original index is inclusive, and new index is exclusive\n",
    "    tf_end_int = te_start_int + int(values_list[TF_END_OLD])\n",
    "    \n",
    "    # Print chromosome of transcription factor to column 0 of new file\n",
    "    write_file.write(chromosome_str + '\\t')\n",
    "    # Print start location of transcription factor to column 1 of new file\n",
    "    write_file.write(str(tf_start_int) + '\\t')\n",
    "    # Print end location of transcription factor to column 2 of new file\n",
    "    write_file.write(str(tf_end_int) + '\\t')\n",
    "    # Print the transcription factor name to column 3 of new file\n",
    "    write_file.write(values_list[TF_NAME_OLD] + '\\t')\n",
    "    # Print the chromosome of the transposable element to column 4 of new file\n",
    "    write_file.write(chromosome_str + '\\t')\n",
    "    # Print the start location of transposable element to column 5 of new file\n",
    "    write_file.write(str(te_start_int) + '\\t')\n",
    "    # Print the end location of transposable element to column 6 of new file\n",
    "    write_file.write(str(te_end_int) + '\\t')\n",
    "    # Print the name of the transposable element to column 7 of new file (last column)\n",
    "    write_file.write(values_list[TE_NAME_OLD] + '\\n')\n",
    "\n",
    "    # Debug  \n",
    "    count += 1\n",
    "    if count > 1000:\n",
    "        break\n",
    "    \n",
    "# Close the files\n",
    "data_file.close()\n",
    "write_file.close()"
   ]
  }
 ],
 "metadata": {
  "kernelspec": {
   "display_name": "Python 3",
   "language": "python",
   "name": "python3"
  },
  "language_info": {
   "codemirror_mode": {
    "name": "ipython",
    "version": 3
   },
   "file_extension": ".py",
   "mimetype": "text/x-python",
   "name": "python",
   "nbconvert_exporter": "python",
   "pygments_lexer": "ipython3",
   "version": "3.6.4"
  }
 },
 "nbformat": 4,
 "nbformat_minor": 2
}
