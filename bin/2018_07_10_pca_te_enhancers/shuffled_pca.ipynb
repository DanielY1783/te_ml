{
 "cells": [
  {
   "cell_type": "markdown",
   "metadata": {},
   "source": [
    "Name: Daniel Yan\n",
    "    \n",
    "Email: daniel.yan@vanderbilt.edu\n",
    "\n",
    "Principal component analysis on HERVs, enhancers, HERV-enhancer intersect, and control population of shuffled parts of the human genome."
   ]
  },
  {
   "cell_type": "code",
   "execution_count": null,
   "metadata": {},
   "outputs": [],
   "source": [
    "# Libaries\n",
    "import pca\n",
    "from sklearn.decomposition import IncrementalPCA"
   ]
  },
  {
   "cell_type": "code",
   "execution_count": null,
   "metadata": {},
   "outputs": [],
   "source": [
    "def main():\n",
    "    \"\"\"Main function to run everything\n",
    "    \"\"\"\n",
    "    # Load in data file\n",
    "    df = pd.read_table(\"/dors/capra_lab/users/yand1/te_ml/data/2018_07_10_pca_te_enhancers/test.tsv\")\n",
    "    \n",
    "    # Get features used in PCA\n",
    "    features_df = df.loc[:,\"aaaaaa\":\"tttttt\"]\n",
    "    \n",
    "    # Get labels\n",
    "    labels_df = df.loc[:,\"label\"]\n",
    "    \n",
    "    # Create the PCA\n",
    "    ipca = IncrementalPCA(n_components = 10)\n",
    "    features_transformed = ipca.fit_transform(features_df)\n",
    "    \n",
    "    # Label the transformed coordinates\n",
    "    transformed_df = pca.label_coordinates(transformed_coordinates = features_transformed, \n",
    "                                       labels = labels_df)\n",
    "        \n",
    "    # Plot the pca\n",
    "    pca.scatterplot_pca(df = transformed_df, file_name = \n",
    "                    \"/dors/capra_lab/users/yand1/te_ml/results/2018_07_10_pca_te_enhancers/pca.png\",\n",
    "                   labels_set = set(labels_df), colors_list = [\"orangered\", \"indigo\", \"lime\", \"cyan\"],\n",
    "                   title = \"PCA on HERVs, enhancers, HERV-enhancer overlap, and shuffled human genome as control using 6-mers\", \n",
    "                   alpha = 0.2)\n",
    "    \n",
    "    # Plot just the HERVs\n",
    "    pca.scatterplot_pca(df = transformed_df, file_name = \n",
    "                    \"/dors/capra_lab/users/yand1/te_ml/results/2018_07_10_pca_te_enhancers/pca_hervs.png\",\n",
    "                   labels_set = set([\"herv_only\"]), colors_list = [\"orangered\"],\n",
    "                   title = \"HERVs only\", \n",
    "                   alpha = 0.2)\n",
    "    \n",
    "    # Plot just the enhancers\n",
    "    pca.scatterplot_pca(df = transformed_df, file_name = \n",
    "                    \"/dors/capra_lab/users/yand1/te_ml/results/2018_07_10_pca_te_enhancers/pca_enhancers.png\",\n",
    "                   labels_set = set([\"enhancer_only\"]), colors_list = [\"indigo\"],\n",
    "                   title = \"Enhancers only\", \n",
    "                   alpha = 0.2)\n",
    "    \n",
    "    # Plot just HERV-enhancer intersection\n",
    "    pca.scatterplot_pca(df = transformed_df, file_name = \n",
    "                    \"/dors/capra_lab/users/yand1/te_ml/results/2018_07_10_pca_te_enhancers/pca_intersect.png\",\n",
    "                   labels_set = set([\"herv_enhancer_intersect\"]), colors_list = [\"lime\"],\n",
    "                   title = \"HERV-enhancer intersect\", \n",
    "                   alpha = 0.2)    \n",
    "    \n",
    "    # Plot just the control of shuffled elements in the human genome\n",
    "    pca.scatterplot_pca(df = transformed_df, file_name = \n",
    "                    \"/dors/capra_lab/users/yand1/te_ml/results/2018_07_10_pca_te_enhancers/pca_control.png\",\n",
    "                   labels_set = set([\"shuffled_genome\"]), colors_list = [\"cyan\"],\n",
    "                   title = \"Control\", \n",
    "                   alpha = 0.2)\n",
    "    \n",
    "    # Print out the explained variance ratios to file\n",
    "    with open(\"/dors/capra_lab/users/yand1/te_ml/results/\\\n",
    "              2018_07_10_pca_te_enhancers/variance_ratios.txt\",\\\n",
    "              w+) as file:\n",
    "        int count = 1\n",
    "        for i in ipca.explained_variance_ratio_:\n",
    "            file.write(\"Explained Variance Ratio for Component {}: {}\".format(count, i))"
   ]
  },
  {
   "cell_type": "code",
   "execution_count": null,
   "metadata": {},
   "outputs": [],
   "source": [
    "# Call main to run\n",
    "main()"
   ]
  }
 ],
 "metadata": {
  "kernelspec": {
   "display_name": "Python 3",
   "language": "python",
   "name": "python3"
  },
  "language_info": {
   "codemirror_mode": {
    "name": "ipython",
    "version": 3
   },
   "file_extension": ".py",
   "mimetype": "text/x-python",
   "name": "python",
   "nbconvert_exporter": "python",
   "pygments_lexer": "ipython3",
   "version": "3.6.4"
  }
 },
 "nbformat": 4,
 "nbformat_minor": 2
}
