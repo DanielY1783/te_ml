{
 "cells": [
  {
   "cell_type": "markdown",
   "metadata": {},
   "source": [
    "Name: Daniel Yan\n",
    "    \n",
    "Email: daniel.yan@vanderbilt.edu\n",
    "\n",
    "Principal component analysis on HERVs, enhancers, HERV-enhancer intersect, and control population of shuffled parts of the human genome."
   ]
  },
  {
   "cell_type": "code",
   "execution_count": null,
   "metadata": {},
   "outputs": [],
   "source": [
    "# Libaries\n",
    "import pca"
   ]
  },
  {
   "cell_type": "code",
   "execution_count": null,
   "metadata": {},
   "outputs": [],
   "source": [
    "def main():\n",
    "    \"\"\"Main function to run everything\n",
    "    \"\"\"\n",
    "    # Load in data file\n",
    "    df = pd.read_table(\"/dors/capra_lab/users/yand1/te_ml/data/2018_07_10_pca_te_enhancers/hervs_te_shuffled_features_matrix.tsv\")\n",
    "    \n",
    "    # Get features used in PCA\n",
    "    features_df = df.loc[:,\"aaaaaa\":\"tttttt\"]\n",
    "    \n",
    "    # Get labels\n",
    "    labels_df = df.loc[:,\"label\"]\n",
    "    \n",
    "    # Create the PCA\n",
    "    features_transformed ="
   ]
  },
  {
   "cell_type": "code",
   "execution_count": null,
   "metadata": {},
   "outputs": [],
   "source": [
    "# Call main to run\n",
    "main()"
   ]
  }
 ],
 "metadata": {
  "kernelspec": {
   "display_name": "Python 3",
   "language": "python",
   "name": "python3"
  },
  "language_info": {
   "codemirror_mode": {
    "name": "ipython",
    "version": 3
   },
   "file_extension": ".py",
   "mimetype": "text/x-python",
   "name": "python",
   "nbconvert_exporter": "python",
   "pygments_lexer": "ipython3",
   "version": "3.6.4"
  }
 },
 "nbformat": 4,
 "nbformat_minor": 2
}
