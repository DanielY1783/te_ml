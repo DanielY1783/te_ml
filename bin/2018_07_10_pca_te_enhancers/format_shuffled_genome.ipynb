{
 "cells": [
  {
   "cell_type": "markdown",
   "metadata": {},
   "source": [
    "Name: Daniel Yan\n",
    "\n",
    "Email: daniel.yan@vanderbilt.edu\n",
    "\n",
    "Finds the shuffled parts of the human genome within the features matrix from /dors/capra_lab/users/yand1/te_ml/data/2018_07_10_pca_te_enhancers/all_pairs_features_matrix.tsv\n",
    "and normalize them by dividing by the number of base pairs. Store the new features matrix containing only information about shuffled parts of the human genome to a /dors/capra_lab/users/yand1/te_ml/data/2018_07_10_pca_te_enhancers/shuffled_features_matrix.tsv"
   ]
  },
  {
   "cell_type": "code",
   "execution_count": null,
   "metadata": {},
   "outputs": [],
   "source": [
    "# Libraries\n",
    "import pandas as pd"
   ]
  },
  {
   "cell_type": "code",
   "execution_count": null,
   "metadata": {},
   "outputs": [],
   "source": [
    "def normalize_counts(df):\n",
    "    \"\"\"Normalize all kmer counts by dividing by the total number of bases\n",
    "    \"\"\"\n",
    "    # Normalize counts by dividing kmer counts in each row by the number of bases\n",
    "    df = df.apply(normalize_row, axis = \"columns\")\n",
    "    return df"
   ]
  },
  {
   "cell_type": "code",
   "execution_count": null,
   "metadata": {},
   "outputs": [],
   "source": [
    "def normalize_row(row):\n",
    "    \"\"\"Divides the count of kmers by the number of pairs to get normalized value for PCA\n",
    "    \n",
    "    Args:\n",
    "        row(pd.Series): Single row representing a HERV with counts of k-mers\n",
    "        \n",
    "    Return:\n",
    "        row(pd.Series): Row that has k-mer counts divided by number of base pairs\n",
    "    \"\"\"\n",
    "    # Get number of pairs in current row\n",
    "    pairs_length = len(row[PAIRS])\n",
    "    \n",
    "    # Update k-kmer counts\n",
    "    for i in range(PAIRS + 1, len(row)):\n",
    "        row.iloc[i] = (row.iloc[i])/pairs_length\n",
    "    \n",
    "    return row"
   ]
  },
  {
   "cell_type": "code",
   "execution_count": null,
   "metadata": {},
   "outputs": [],
   "source": [
    "def main:\n",
    "    \"\"\"Main\n",
    "    \"\"\"\n",
    "    # Read in features matrix\n",
    "    "
   ]
  },
  {
   "cell_type": "code",
   "execution_count": null,
   "metadata": {},
   "outputs": [],
   "source": [
    "# Call main to run\n",
    "main()"
   ]
  }
 ],
 "metadata": {
  "kernelspec": {
   "display_name": "Python 3",
   "language": "python",
   "name": "python3"
  },
  "language_info": {
   "codemirror_mode": {
    "name": "ipython",
    "version": 3
   },
   "file_extension": ".py",
   "mimetype": "text/x-python",
   "name": "python",
   "nbconvert_exporter": "python",
   "pygments_lexer": "ipython3",
   "version": "3.6.4"
  }
 },
 "nbformat": 4,
 "nbformat_minor": 2
}
