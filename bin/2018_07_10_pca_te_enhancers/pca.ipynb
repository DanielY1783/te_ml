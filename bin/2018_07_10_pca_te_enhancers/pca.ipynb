{
 "cells": [
  {
   "cell_type": "markdown",
   "metadata": {},
   "source": [
    "Name: Daniel Yan\n",
    "\n",
    "Email: daniel.yan@vanderbilt.edu\n",
    "\n",
    "Module for an incremental principal component analysis. This version allows for user to specify axis.\n",
    "\n",
    "Can be run as a standalone script that performs a principal component analysis on the data at:\n",
    "/dors/capra_lab/users/yand1/te_ml/data/2018_07_03_pca_te_enhancers/combined_features_matrix.tsv\n",
    "in two components and plots the results."
   ]
  },
  {
   "cell_type": "code",
   "execution_count": null,
   "metadata": {},
   "outputs": [],
   "source": [
    "\"\"\"Module for an incremental principal component analysis with scikit-learn. Results can be plotted.\"\"\""
   ]
  },
  {
   "cell_type": "code",
   "execution_count": null,
   "metadata": {},
   "outputs": [],
   "source": [
    "# Libaries\n",
    "from sklearn.decomposition import PCA, IncrementalPCA\n",
    "import numpy as np\n",
    "import matplotlib\n",
    "matplotlib.use(\"Agg\") # Avoid display error\n",
    "import matplotlib.pyplot as plt\n",
    "import pandas as pd"
   ]
  },
  {
   "cell_type": "code",
   "execution_count": null,
   "metadata": {},
   "outputs": [],
   "source": [
    "# Class Constants\n",
    "N_COMPONENTS = 2 # Number of principal components to keep\n",
    "BATCH_SIZE = None # Size of incremental pca batch to control for memory usage. Can be int or None."
   ]
  },
  {
   "cell_type": "code",
   "execution_count": null,
   "metadata": {},
   "outputs": [],
   "source": [
    "def create_ipca(features, n_components = N_COMPONENTS, batch_size = BATCH_SIZE):\n",
    "    \"\"\"Create an incremental pca based on a features matrix and return the transformed coordinates\n",
    "    \n",
    "    Keyword Arguments:\n",
    "        features: Array-like object containing the features to do a PCA on.\n",
    "        \n",
    "        n_components: Number of dimensions to reduce down to (default N_COMPONENTS).\n",
    "        \n",
    "        batch_size: Size to use for incremental PCA. Can be integer or None (default BATCH_SIZE)\n",
    "        \n",
    "    Return:\n",
    "        Numpy array with coordinates of principal components in columns. Column 0 contains component\n",
    "        accounting for most variation, column 1 contains component accounting for second-most,\n",
    "        and so on.\n",
    "    \"\"\"\n",
    "    # Create the incremental PCA\n",
    "    ipca = IncrementalPCA(n_components = N_COMPONENTS, batch_size = BATCH_SIZE)\n",
    "    return ipca.fit_transform(features_df)"
   ]
  },
  {
   "cell_type": "code",
   "execution_count": null,
   "metadata": {},
   "outputs": [],
   "source": [
    "def label_coordinates(transformed_coordinates, labels):\n",
    "    \"\"\"Labels the transformed coordinates with the correct group.\n",
    "    \n",
    "    Keyword Arguments:\n",
    "        transformed_coordinates: Numpy array containing the coordinates in the principal components\n",
    "        \n",
    "        labels: Array-like object containing labels for the coordinates. The labels should be in\n",
    "            the same order as the rows in transformed_coordinates\n",
    "        \n",
    "    Return: Pandas dataframe with labels inserted as the last column of transformed_coordinates\n",
    "    \"\"\"\n",
    "    # Convert transformed coordinates to pandas dataframe\n",
    "    transformed_df = pd.DataFrame(transformed_coordinates)\n",
    "    \n",
    "    # Label the transformed data\n",
    "    transformed_df[\"label\"] = labels\n",
    "    \n",
    "    return transformed_df"
   ]
  },
  {
   "cell_type": "code",
   "execution_count": null,
   "metadata": {},
   "outputs": [],
   "source": [
    "def scatterplot_pca(df, file_name, labels_set, colors_list, figsize = (20, 20), \n",
    "                    fontsize = 30, title = \"\", alpha = 0.6, axis = \"auto\"):\n",
    "    \"\"\"Create a scatter plot for the PCA with different groups labeled by color\n",
    "    \n",
    "    Keyword Arguments:\n",
    "        df: Pandas data frame containing coordinates of principal component 1 on column 0, coordinates\n",
    "            of principal component 2 on column 1, and labels in column 2. \n",
    "            \n",
    "        file_name: String name of the directory and file to save to\n",
    "        \n",
    "        labels_set: Set of labels used to label the data\n",
    "        \n",
    "        colors_list: List of colors used for the different labels.\n",
    "        \n",
    "        figsize: Tuple containing height and width of the figure in inches (default (20, 20))\n",
    "        \n",
    "        fontsize: Integer size of the font for title and legend (default = 30)\n",
    "        \n",
    "        title: String title for the plot (default is empty string)\n",
    "        \n",
    "        alpha: Alpha level for points on scatter plot (0 is transparent, 1 is opaque)\n",
    "    \"\"\"\n",
    "    # Plot the pca\n",
    "    plt.figure(figsize=figsize)\n",
    "    \n",
    "    # Create tuples matching labels to colors, and plot points corresponding to each label\n",
    "    # one label at a time on the scatter plot\n",
    "    for label, color in zip(labels_set, colors_list):\n",
    "        # Select rows that correspond to the current label\n",
    "        rows = df.loc[df.iloc[:,2] == label]\n",
    "        # Plot on the points corresponding to the current label on the plot with \n",
    "        # unique color\n",
    "        plt.scatter(rows.iloc[:,0], rows.iloc[:,1], \n",
    "                    color = color, label = label, alpha = alpha)\n",
    "    \n",
    "    plt.title(title, fontsize = fontsize)\n",
    "    plt.legend(fontsize = fontsize)\n",
    "    plt.axis(axis)\n",
    "    plt.savefig(file_name)"
   ]
  },
  {
   "cell_type": "code",
   "execution_count": null,
   "metadata": {},
   "outputs": [],
   "source": [
    "if __name__ == \"__main__\":\n",
    "    # Load in data file\n",
    "    df = pd.read_table(\"/dors/capra_lab/users/yand1/te_ml/data/2018_07_03_pca_te_enhancers/combined_features_matrix.tsv\")\n",
    "    \n",
    "    # Get features used in PCA\n",
    "    features_df = df.loc[:,\"aaaaaa\":\"tttttt\"]\n",
    "    \n",
    "    # Get labels\n",
    "    labels_df = df.loc[:,\"label\"]\n",
    "    \n",
    "    # Create the incremental pca\n",
    "    features_transformed = create_ipca(features_df)\n",
    "    \n",
    "    # Label the transformed coordiantes\n",
    "    transformed_df = label_coordinates(transformed_coordinates = features_transformed, \n",
    "                                       labels = labels_df)\n",
    "    \n",
    "    # Plot the pca\n",
    "    scatterplot_pca(df = transformed_df, file_name = \n",
    "                    \"/dors/capra_lab/users/yand1/te_ml/results/2018_07_10_pca_te_enhancers/pca.png\",\n",
    "                   labels_set = set(labels_df), colors_list = [\"teal\", \"red\", \"navy\"],\n",
    "                   title = \"PCA on HERVs, enhancers, and HERV-enhancer overlap using 6-mers\", \n",
    "                   axis = [-0.05, 0.35, -0.4, 0.3] alpha = 0.2)\n",
    "    \n",
    "    # Plot just the HERVs\n",
    "    scatterplot_pca(df = transformed_df, file_name = \n",
    "                    \"/dors/capra_lab/users/yand1/te_ml/results/2018_07_10_pca_te_enhancers/pca_hervs.png\",\n",
    "                   labels_set = set([\"herv_only\"]), colors_list = [\"teal\"],\n",
    "                   title = \"HERVs only\", \n",
    "                   axis = [-0.05, 0.35, -0.4, 0.3] alpha = 0.2)\n",
    "    \n",
    "    # Plot just the enhancers\n",
    "    scatterplot_pca(df = transformed_df, file_name = \n",
    "                    \"/dors/capra_lab/users/yand1/te_ml/results/2018_07_10_pca_te_enhancers/pca_enhancers.png\",\n",
    "                   labels_set = set([\"enhancer_only\"]), colors_list = [\"red\"],\n",
    "                   title = \"Enhancers only\", \n",
    "                   axis = [-0.05, 0.35, -0.4, 0.3] alpha = 0.2)\n",
    "    \n",
    "    # Plot just HERV-enhancer intersection\n",
    "    scatterplot_pca(df = transformed_df, file_name = \n",
    "                    \"/dors/capra_lab/users/yand1/te_ml/results/2018_07_10_pca_te_enhancers/pca_intersect.png\",\n",
    "                   labels_set = set([\"herv_enhancer_intersect\"]), colors_list = [\"navy\"],\n",
    "                   title = \"HERV-enhancer intersect\", \n",
    "                   axis = [-0.05, 0.35, -0.4, 0.3] alpha = 0.2)    "
   ]
  }
 ],
 "metadata": {
  "kernelspec": {
   "display_name": "Python 3",
   "language": "python",
   "name": "python3"
  },
  "language_info": {
   "codemirror_mode": {
    "name": "ipython",
    "version": 3
   },
   "file_extension": ".py",
   "mimetype": "text/x-python",
   "name": "python",
   "nbconvert_exporter": "python",
   "pygments_lexer": "ipython3",
   "version": "3.6.4"
  }
 },
 "nbformat": 4,
 "nbformat_minor": 2
}
