{
 "cells": [
  {
   "cell_type": "markdown",
   "metadata": {},
   "source": [
    "Counts k-mers for each herv by reading in file with base pairs for HERVs at /dors/capra_lab/users/yand1/te_ml/data/2018_06_26_kmers_hervs_chromehmm/hervs_hg19.tsv\n",
    "and creating a count for each k-mer and saving to \n",
    "/dors/capra_lab/users/yand1/te_ml/data/2018_06_27_kmers_hervs_chromehmm/hervs_kmers_features_matrix.tsv"
   ]
  },
  {
   "cell_type": "code",
   "execution_count": 1,
   "metadata": {},
   "outputs": [],
   "source": [
    "# Libraries\n",
    "import pandas as pd # Data manipulation \n",
    "from itertools import product # For generating all possible 6-mers"
   ]
  },
  {
   "cell_type": "code",
   "execution_count": 2,
   "metadata": {},
   "outputs": [],
   "source": [
    "# Class constants\n",
    "DIRECTORY = \"/dors/capra_lab/users/yand1/te_ml/\" # Root directory for project\n",
    "DATE = \"2018_06_27_kmers_hervs_chromehmm/\"\n",
    "LOCATION = \"accre/\" # Local machine or accre cluster.\n",
    "DATA_FILE = \"hervs_hg19.tsv\"\n",
    "WRITE_FILE = \"hervs_kmers_features_matrix.tsv\" # File to save results to\n",
    "K = 6 # Length of \"k\" value for k-mer\n",
    "CHR = 0 # Column of chromosome of herv in data file\n",
    "START = 1 # Column of start location of herv in data file\n",
    "END = 2 # Column of end location of herv in data file\n",
    "PAIRS = 3 # Column with string of actual pairs within herv\n",
    "ALPHABET = \"acgt\" # Alphabet of base pairs in k-mers"
   ]
  },
  {
   "cell_type": "code",
   "execution_count": 3,
   "metadata": {},
   "outputs": [],
   "source": [
    "def generate_kmers():\n",
    "    \"\"\"Return all combinations of k-mers in alphabet to use as features.\n",
    "    \n",
    "    Return: \n",
    "        kmers_list(list): List that contains strings of all possible k-mers\n",
    "        from the given \"k\" value and alphabet\n",
    "    \"\"\"\n",
    "    # Use product to generate iterator that contains all k-mers\n",
    "    kmers_iter = product(ALPHABET, repeat = K)\n",
    "    # Join all the characters to form a list of strings\n",
    "    kmers_list = [''.join(i) for i in kmers_iter]\n",
    "    return kmers_list"
   ]
  },
  {
   "cell_type": "code",
   "execution_count": 4,
   "metadata": {},
   "outputs": [],
   "source": [
    "def count_kmers(pairs_df, kmers_list):\n",
    "    \"\"\"Counts the repetitions of each k-mer within each row of the dataframe\n",
    "        by using a sliding window and storing results to corresponding column.\n",
    "        \n",
    "    Args:\n",
    "        herv_df(pd.DataFrame): Data frames containing the base pairs for each HERV.\n",
    "        kmers_list: List containing strings for all possible k-mers.\n",
    "        \n",
    "    Return:\n",
    "        features_df(pd.DataFrame): New data frame with columns of k-mers updated to \n",
    "            reflect counts within base pairs to use as features matrix.\n",
    "    \"\"\"\n",
    "    # Add all kmers from kmers_list as columns for new features matrix,\n",
    "    # with values default initialized to 0. Drop pairs column.\n",
    "    features_df = pairs_df.copy().reindex(columns = (pairs_df.columns.tolist() + kmers_list), \n",
    "                                                      fill_value = 0)\n",
    "    features_df = features_df.drop(\"pairs\", axis = \"columns\")\n",
    "    \n",
    "    # Iterate over pairs_df to update features_df\n",
    "    for index, row in pairs_df.iterrows():\n",
    "        # Get base pairs in current row\n",
    "        pairs = row[\"pairs\"]\n",
    "        \n",
    "        # Find k-mers in base pairs using a sliding window and update count in features matrix\n",
    "        for i in range(len(pairs) - K):\n",
    "            kmer = pairs[i: i + K]\n",
    "            # Check that the column exists\n",
    "            if kmer in features_df.columns:\n",
    "                # Get corresponding column number in features matrix\n",
    "                column_number = features_df.columns.get_loc(kmer)\n",
    "                # Update features matrix\n",
    "                features_df.iloc[index, column_number] += 1\n",
    "    \n",
    "    return features_df"
   ]
  },
  {
   "cell_type": "code",
   "execution_count": 5,
   "metadata": {},
   "outputs": [],
   "source": [
    "## Main\n",
    "def main():\n",
    "    # Read in file as pandas dataframe\n",
    "    hervs_df = pd.read_table(DIRECTORY + \"data/\" + \"2018_06_26_kmers_hervs_chromehmm/\" + DATA_FILE, header = None)\n",
    "    \n",
    "    # Rename columns\n",
    "    hervs_df = hervs_df.rename(columns = {CHR: \"chr\", START: \"start\", END: \"end\", PAIRS: \"pairs\"})\n",
    "    \n",
    "    # Generate all possible k-mers\n",
    "    kmers_list = generate_kmers()\n",
    "                                          \n",
    "    # Create features matrix containing count of each k-mer from the base pairs data frame\n",
    "    features_matrix = count_kmers(pairs_df = hervs_df, kmers_list = kmers_list)\n",
    "    \n",
    "    features_matrix.to_csv(DIRECTORY + \"data/\" + \"2018_06_27_kmers_hervs_chromehmm/\" + WRITE_FILE, sep = '\\t', index = False)"
   ]
  },
  {
   "cell_type": "code",
   "execution_count": 6,
   "metadata": {},
   "outputs": [],
   "source": [
    "main() # Call main to run"
   ]
  }
 ],
 "metadata": {
  "kernelspec": {
   "display_name": "Python 3",
   "language": "python",
   "name": "python3"
  },
  "language_info": {
   "codemirror_mode": {
    "name": "ipython",
    "version": 3
   },
   "file_extension": ".py",
   "mimetype": "text/x-python",
   "name": "python",
   "nbconvert_exporter": "python",
   "pygments_lexer": "ipython3",
   "version": "3.6.4"
  }
 },
 "nbformat": 4,
 "nbformat_minor": 2
}
