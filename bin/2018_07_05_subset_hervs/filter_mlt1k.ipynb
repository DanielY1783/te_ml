{
 "cells": [
  {
   "cell_type": "markdown",
   "metadata": {},
   "source": [
    "Filters the HERVs from /dors/capra_lab/users/yand1/te_ml/data/2018_07_05_subset_hervs/no_dups_hervs.tsv \n",
    "for only the MLT1K HERVs and save to  \n",
    "/dors/capra_lab/users/yand1/te_ml/data/2018_07_05_subset_hervs/mlt1k.tsv "
   ]
  },
  {
   "cell_type": "code",
   "execution_count": null,
   "metadata": {},
   "outputs": [],
   "source": [
    "# Libraries\n",
    "import pandas as pd"
   ]
  },
  {
   "cell_type": "code",
   "execution_count": null,
   "metadata": {},
   "outputs": [],
   "source": [
    "def main():\n",
    "    \"\"\"Main\n",
    "    \"\"\"\n",
    "    hervs_df = pd.read_table(\"/dors/capra_lab/users/yand1/te_ml/data/2018_07_05_subset_hervs/no_dups_hervs.tsv\", header = None)\n",
    "    df.loc[df.iloc[:,3] == \"MLT1K\"].to_csv(\"/dors/capra_lab/users/yand1/te_ml/data/2018_07_05_subset_hervs/mlt1k.tsv\",\n",
    "                                          index = False, header = False)"
   ]
  },
  {
   "cell_type": "code",
   "execution_count": null,
   "metadata": {},
   "outputs": [],
   "source": [
    "# Call main to run\n",
    "main()"
   ]
  }
 ],
 "metadata": {
  "kernelspec": {
   "display_name": "Python 3",
   "language": "python",
   "name": "python3"
  },
  "language_info": {
   "codemirror_mode": {
    "name": "ipython",
    "version": 3
   },
   "file_extension": ".py",
   "mimetype": "text/x-python",
   "name": "python",
   "nbconvert_exporter": "python",
   "pygments_lexer": "ipython3",
   "version": "3.6.4"
  }
 },
 "nbformat": 4,
 "nbformat_minor": 2
}
