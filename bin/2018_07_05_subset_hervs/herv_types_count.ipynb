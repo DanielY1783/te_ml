{
 "cells": [
  {
   "cell_type": "markdown",
   "metadata": {},
   "source": [
    "Get counts for each subset of HERV from /dors/capra_lab/users/yand1/te_ml/data/2018_07_05_subset_hervs/no_dups_hervs.tsv\n",
    "to find largest HERV subset"
   ]
  },
  {
   "cell_type": "code",
   "execution_count": null,
   "metadata": {},
   "outputs": [],
   "source": [
    "# Libraries\n",
    "import pandas as pd"
   ]
  },
  {
   "cell_type": "code",
   "execution_count": null,
   "metadata": {},
   "outputs": [],
   "source": [
    "def main():\n",
    "    \"\"\"Main\n",
    "    \"\"\"\n",
    "    hervs_df = pd.read_table(\"../../data/2018_07_05_subset_hervs/no_dups_hervs.tsv\", header = None)\n",
    "    with open(\"../../results/2018_07_05_subset_hervs/herv_subset_counts.txt\", mode = \"w+\") as file:\n",
    "        file.write(hervs_df[3].value_counts().to_string())"
   ]
  },
  {
   "cell_type": "code",
   "execution_count": null,
   "metadata": {},
   "outputs": [],
   "source": [
    "# Call main to run\n",
    "main() "
   ]
  }
 ],
 "metadata": {
  "kernelspec": {
   "display_name": "Python 3",
   "language": "python",
   "name": "python3"
  },
  "language_info": {
   "codemirror_mode": {
    "name": "ipython",
    "version": 3
   },
   "file_extension": ".py",
   "mimetype": "text/x-python",
   "name": "python",
   "nbconvert_exporter": "python",
   "pygments_lexer": "ipython3",
   "version": "3.6.4"
  }
 },
 "nbformat": 4,
 "nbformat_minor": 2
}
