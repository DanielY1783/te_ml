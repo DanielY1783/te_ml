{
 "cells": [
  {
   "cell_type": "markdown",
   "metadata": {},
   "source": [
    "New version of /dors/capra_lab/users/yand1/te_ml/bin/2018_06_29_kmers_enhancer_intersect/reformat_hervs_intersect enhancers.py\n",
    "This program takes in\n",
    "/dors/capra_lab/users/yand1/te_ml/data/2018_07_05_subset_hervs/enhancers_mlt1k_intersect.tsv\n",
    "and changes overlap to boolean value: 1 for overlap between transposable element and enhancer; 0 for no overlap."
   ]
  },
  {
   "cell_type": "code",
   "execution_count": null,
   "metadata": {},
   "outputs": [],
   "source": [
    "# Libraries\n",
    "import pandas as pd"
   ]
  },
  {
   "cell_type": "code",
   "execution_count": null,
   "metadata": {},
   "outputs": [],
   "source": [
    "# Class constants\n",
    "DIRECTORY = \"/dors/capra_lab/users/yand1/te_ml/\"\n",
    "DATE_INFO = \"2018_07_05_subset_hervs/\" # Directory associated with date\n",
    "DATA_FILE = \"enhancers_mlt1k_intersect.tsv\"\n",
    "REFORMATTED_DATA_FILE = \"reformatted_enhancers_mlt1k_intersect.tsv\" # New data file to write to\n",
    "HERV_TYPE = 3 # Column with type of HERV\n",
    "CHR_INTERSECT= 4 # Column of chromosome of intersection\n",
    "START_INTERSECT = 5 # Column of start location of intersection\n",
    "END_INTERSECT = 6 # Column of end location of intersection\n",
    "ENHANCER_INFO = 7 # Column with intersection of enhancer"
   ]
  },
  {
   "cell_type": "code",
   "execution_count": null,
   "metadata": {},
   "outputs": [],
   "source": [
    "def main():\n",
    "    \"\"\"Main function\n",
    "    \"\"\"\n",
    "    # Read in data frame\n",
    "    features_df = pd.read_table(DIRECTORY + \"data/\" + DATE_INFO + DATA_FILE, header = None)\n",
    "    \n",
    "    # Change 1 for overlap, -1 for no overlap\n",
    "    features_df.iloc[:,CHR_INTERSECT] = (features_df.iloc[:,CHR_INTERSECT].apply\n",
    "                                         (lambda x: 0 if x == \".\" else 1))\n",
    "    \n",
    "    # Drop unneeded columns\n",
    "    features_df.drop([HERV_TYPE, START_INTERSECT, END_INTERSECT, ENHANCER_INFO],\n",
    "                     axis =\"columns\", inplace = True)\n",
    "    \n",
    "    # Rename columns\n",
    "    features_df.columns = [\"chr\", \"start\", \"end\", \"enhancer\"]\n",
    "    \n",
    "    # Get count of number of overlaps and save to file.\n",
    "    overlaps = features_df.loc[\"enhancer\"].sum()\n",
    "    with open(DIRECTORY + \"results/\" + DATE_INFO + \"count_overlaps.txt\", mode = \"w+\") as file:\n",
    "        file.write(\"Overlaps: \" + str(overlaps) + '\\n')\n",
    "        file.write(\"No overlaps: \" + str(features_df.shape[0] - overlaps) + '\\n')\n",
    "    \n",
    "\n",
    "    # Rename columns\n",
    "    features_df.columns = [\"chr\", \"start\", \"end\", \"enhancer\"]\n",
    "    \n",
    "    # Save to file.\n",
    "    features_df.to_csv(DIRECTORY + \"data/\" + DATE_INFO + REFORMATTED_DATA_FILE, \n",
    "                       index = False, sep = '\\t')"
   ]
  },
  {
   "cell_type": "code",
   "execution_count": null,
   "metadata": {},
   "outputs": [],
   "source": [
    "main()"
   ]
  }
 ],
 "metadata": {
  "kernelspec": {
   "display_name": "Python 3",
   "language": "python",
   "name": "python3"
  },
  "language_info": {
   "codemirror_mode": {
    "name": "ipython",
    "version": 3
   },
   "file_extension": ".py",
   "mimetype": "text/x-python",
   "name": "python",
   "nbconvert_exporter": "python",
   "pygments_lexer": "ipython3",
   "version": "3.6.4"
  }
 },
 "nbformat": 4,
 "nbformat_minor": 2
}
