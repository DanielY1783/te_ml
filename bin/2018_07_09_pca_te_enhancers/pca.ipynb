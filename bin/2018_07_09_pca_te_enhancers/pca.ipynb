{
 "cells": [
  {
   "cell_type": "markdown",
   "metadata": {},
   "source": [
    "Performs a principal component analysis on two components and graphs the results. Data is at:\n",
    "/dors/capra_lab/users/yand1/te_ml/data/2018_07_03_pca_te_enhancers/combined_features_matrix.tsv"
   ]
  },
  {
   "cell_type": "code",
   "execution_count": null,
   "metadata": {},
   "outputs": [],
   "source": [
    "# Libaries\n",
    "from sklearn.decomposition import PCA, IncrementalPCA\n",
    "import numpy as np\n",
    "import matplotlib\n",
    "matplotlib.use(\"Agg\") # Avoid display error\n",
    "import matplotlib.pyplot as plt"
   ]
  },
  {
   "cell_type": "code",
   "execution_count": null,
   "metadata": {},
   "outputs": [],
   "source": [
    "# Class Constants\n",
    "N_COMPONENTS = 2 # Number of principal components to keep\n",
    "BATCH_SIZE = None # Size of incremental pca batch to control for memory usage. Can be int or None.\n",
    "FIRST_KMER = \"aaaaaa\" # kmer in lowest column value\n",
    "LAST_KMER = \"tttttt\" # kmer in highest column value"
   ]
  },
  {
   "cell_type": "code",
   "execution_count": null,
   "metadata": {},
   "outputs": [],
   "source": [
    "\"\"\"Main\n",
    "\"\"\"\n",
    "def main():\n",
    "    # Load in data file\n",
    "    df = pd.read_table(\"/dors/capra_lab/users/yand1/te_ml/data/2018_07_03_pca_te_enhancers/combined_features_matrix.tsv\")\n",
    "    \n",
    "    # Get features used in PCA\n",
    "    x_df = df.iloc(:,FIRST_KMER:LAST_KMER)\n",
    "    \n",
    "    # Get labels\n",
    "    y_df = df.iloc(\"label\")\n",
    "    \n",
    "    # Create the incremental PCA\n",
    "    ipca = Incremental_PCA(n_components = N_COMPONENTS, batch_size = BATCH_SIZE)\n",
    "    x_ipca = ipca.fit_transform(x_df)\n",
    "    \n",
    "    # Plot the pca\n",
    "    plt.figure(figsize=(8, 8))\n",
    "    plt.scatter(x = x_ipca, y = )\n",
    "    plt.savefig(\"/dors/capra_lab/users/yand1/te_ml/results/2018_07_09_pca_te_enhancers/pca.png\")"
   ]
  },
  {
   "cell_type": "code",
   "execution_count": null,
   "metadata": {},
   "outputs": [],
   "source": [
    "# Call main to run\n",
    "main()"
   ]
  }
 ],
 "metadata": {
  "kernelspec": {
   "display_name": "Python 3",
   "language": "python",
   "name": "python3"
  },
  "language_info": {
   "codemirror_mode": {
    "name": "ipython",
    "version": 3
   },
   "file_extension": ".py",
   "mimetype": "text/x-python",
   "name": "python",
   "nbconvert_exporter": "python",
   "pygments_lexer": "ipython3",
   "version": "3.6.4"
  }
 },
 "nbformat": 4,
 "nbformat_minor": 2
}
