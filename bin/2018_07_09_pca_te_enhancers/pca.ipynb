{
 "cells": [
  {
   "cell_type": "markdown",
   "metadata": {},
   "source": [
    "Performs a principal component analysis on two components and graphs the results. Data is at:\n",
    "/dors/capra_lab/users/yand1/te_ml/data/2018_07_03_pca_te_enhancers/combined_features_matrix.tsv"
   ]
  },
  {
   "cell_type": "code",
   "execution_count": 1,
   "metadata": {},
   "outputs": [],
   "source": [
    "# Libaries\n",
    "from sklearn.decomposition import PCA, IncrementalPCA\n",
    "import numpy as np\n",
    "import matplotlib\n",
    "matplotlib.use(\"Agg\") # Avoid display error\n",
    "import matplotlib.pyplot as plt\n",
    "import pandas as pd"
   ]
  },
  {
   "cell_type": "code",
   "execution_count": 2,
   "metadata": {},
   "outputs": [],
   "source": [
    "# Class Constants\n",
    "N_COMPONENTS = 2 # Number of principal components to keep\n",
    "BATCH_SIZE = None # Size of incremental pca batch to control for memory usage. Can be int or None.\n",
    "FIRST_KMER = \"aaaaaa\" # kmer in lowest column value\n",
    "LAST_KMER = \"tttttt\" # kmer in highest column value\n",
    "COLORS = ['navy', 'turquoise', 'red'] # Colors for scatter plot"
   ]
  },
  {
   "cell_type": "code",
   "execution_count": 3,
   "metadata": {},
   "outputs": [],
   "source": [
    "if __name__ == \"__main__\":\n",
    "    # Load in data file\n",
    "    #df = pd.read_table(\"/dors/capra_lab/users/yand1/te_ml/data/2018_07_03_pca_te_enhancers/combined_features_matrix.tsv\")\n",
    "    df = pd.read_table(\"../../data/2018_07_03_pca_te_enhancers/test.tsv\")\n",
    "    \n",
    "    # Get features used in PCA\n",
    "    features_df = df.loc[:,FIRST_KMER:LAST_KMER]\n",
    "    \n",
    "    # Get labels\n",
    "    labels_df = df.loc[:,\"label\"]\n",
    "    \n",
    "    # Create the incremental PCA\n",
    "    ipca = IncrementalPCA(n_components = N_COMPONENTS, batch_size = BATCH_SIZE)\n",
    "    features_transformed = ipca.fit_transform(features_df)\n",
    "    \n",
    "    # Convert transformed coordinates to pandas dataframe\n",
    "    transformed_df = pd.DataFrame(features_transformed)\n",
    "    transformed_df.columns = [\"component_1\", \"component_2\"]\n",
    "    \n",
    "    # Label the transformed data\n",
    "    transformed_df[\"label\"] = labels_df\n",
    "    \n",
    "    # Plot the pca\n",
    "    plt.figure(figsize=(20, 20))\n",
    "    for label, color in zip(set(labels_df), COLORS):\n",
    "        # Select rows that correspond to the current label\n",
    "        rows = transformed_df.loc[transformed_df[\"label\"] == label]\n",
    "        # Plot on the points corresponding to the current label on the plot with \n",
    "        # unique color\n",
    "        plt.scatter(rows.loc[:,\"component_1\"], rows.loc[:, \"component_2\"], \n",
    "                    color = color, label = label, alpha = 0.6)\n",
    "    plt.title(\"PCA of HERVs, enhancers, and overlap of HERVs and enhancers\", fontsize = 30)\n",
    "    plt.legend(fontsize = 30)\n",
    "    plt.savefig(\"../../results/2018_07_09_pca_te_enhancers/test_pca.png\")"
   ]
  }
 ],
 "metadata": {
  "kernelspec": {
   "display_name": "Python 3",
   "language": "python",
   "name": "python3"
  },
  "language_info": {
   "codemirror_mode": {
    "name": "ipython",
    "version": 3
   },
   "file_extension": ".py",
   "mimetype": "text/x-python",
   "name": "python",
   "nbconvert_exporter": "python",
   "pygments_lexer": "ipython3",
   "version": "3.6.4"
  }
 },
 "nbformat": 4,
 "nbformat_minor": 2
}
