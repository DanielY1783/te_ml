{
 "cells": [
  {
   "cell_type": "markdown",
   "metadata": {},
   "source": [
    "Author: Daniel Yan\n",
    "\n",
    "Date: 2018-07-16\n",
    "\n",
    "Email: daniel.yan@vanderbilt.edu\n",
    "\n",
    "Description: t-distributed stochastic neighbor embedding analysis on data with scatter plot visualization. \n",
    "\n",
    "Preconditions: Data file must contain one column named \"label\" containing labels for the data. All other columns must contain features. Data file must not have indices for rows.\n",
    "\n",
    "Command Line Arguments:\n",
    "First argument: Name of data file to read from. Include directory.\n",
    "Second argument: Name of file to store scatterplot to. Include directory.\n",
    "Third argument: Name of file to store tsne model to. Include directory.\n",
    "Error will result if any argument is invalid."
   ]
  },
  {
   "cell_type": "code",
   "execution_count": null,
   "metadata": {},
   "outputs": [],
   "source": [
    "# Libraries\n",
    "import pandas as pd # Data\n",
    "from pca import scatterplot_cords, label_coordinates # For creating scatterplot from labeled coordinates\n",
    "from sklearn.externals import joblib # Save tsne model\n",
    "from sklearn.manifold import TSNE\n",
    "import sys # Command line arguments"
   ]
  },
  {
   "cell_type": "code",
   "execution_count": null,
   "metadata": {},
   "outputs": [],
   "source": [
    "if __name__ == \"__main__\":\n",
    "    # Get data file to process\n",
    "    data_file = sys.argv[1]\n",
    "    # Get name of file to save scatterplot to.\n",
    "    scatterplot_file = sys.argv[2]\n",
    "    # Get name of file to save model to.\n",
    "    model_file = sys.argv[3]\n",
    "    \n",
    "    # Load in data file\n",
    "    print(\"Loading data file...\")\n",
    "    data_frame = pd.read_table(data_file)\n",
    "    \n",
    "    # Get labels\n",
    "    labels_df = data_frame.loc[\"label\"]\n",
    "\n",
    "    # Get features\n",
    "    features_df = data_frame.drop(columns = \"label\")\n",
    "    \n",
    "    # Create tsne and transform coordinates\n",
    "    tsne = TSNE(n_components = n_components, init = \"pca\", random_state = 0)\n",
    "    features_transformed = tsne.fit_transform(features_df)\n",
    "    \n",
    "    # Label the transformed coordinates\n",
    "    transformed_df = label_coordinates(transformed_coordinates = features_transformed, \n",
    "                                       labels = labels_df)\n",
    "    \n",
    "    # Get the list of unique labels\n",
    "    labels_list = list(set(labels_df))\n",
    "    \n",
    "    # Plot the transformed coordinates\n",
    "    scatterplot_cords(df = transformed_df, file_name = scatterplot_file, labels_list = labels_list,\n",
    "                     )"
   ]
  }
 ],
 "metadata": {
  "kernelspec": {
   "display_name": "Python 3",
   "language": "python",
   "name": "python3"
  },
  "language_info": {
   "codemirror_mode": {
    "name": "ipython",
    "version": 3
   },
   "file_extension": ".py",
   "mimetype": "text/x-python",
   "name": "python",
   "nbconvert_exporter": "python",
   "pygments_lexer": "ipython3",
   "version": "3.6.4"
  }
 },
 "nbformat": 4,
 "nbformat_minor": 2
}
