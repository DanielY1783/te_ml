{
 "cells": [
  {
   "cell_type": "markdown",
   "metadata": {},
   "source": [
    "Module version of similar file at /dors/capra_lab/users/yand1/te_ml/bin/2018_06_28_kmers_faster/accre\n",
    "Splits data frame into smaller data frames and save to files as necessary."
   ]
  },
  {
   "cell_type": "code",
   "execution_count": 1,
   "metadata": {},
   "outputs": [],
   "source": [
    "# Libraries\n",
    "import pandas as pd # Data manipulation "
   ]
  },
  {
   "cell_type": "code",
   "execution_count": 2,
   "metadata": {},
   "outputs": [],
   "source": [
    "# Class constants\n",
    "SPLITS = 100 # Number of files to make"
   ]
  },
  {
   "cell_type": "code",
   "execution_count": null,
   "metadata": {},
   "outputs": [],
   "source": [
    "def split_data(df, splits = SPLITS):\n",
    "    \"\"\"Splits dataframe and returns list of new dataframes.\n",
    "    \n",
    "    Keyword Arguments:\n",
    "        df (pd.DataFrame): Data frame to split\n",
    "    \n",
    "        splits(int): Number of data frames to split into (default = SPLITS).\n",
    "        \n",
    "    Return:\n",
    "        smaller_dfs_list (list): List of the new data frames.\n",
    "        \n",
    "    \"\"\"\n",
    "    # Create list for return\n",
    "    smaller_dfs_list = []\n",
    "    \n",
    "    # Store number of rows in data file.\n",
    "    rows_num = df.shape[0]\n",
    "    \n",
    "    # Split up files\n",
    "    for i in range(SPLITS):\n",
    "        start_row = i * (rows_num/SPLITS)\n",
    "        end_row = (i + 1) * (rows_num/SPLITS)\n",
    "        temp_df = hervs_df.loc[start_row:end_row,]\n",
    "        smaller_dfs_list.append(temp_df.copy())\n",
    "    return smaller_dfs_list"
   ]
  },
  {
   "cell_type": "code",
   "execution_count": 3,
   "metadata": {},
   "outputs": [],
   "source": [
    "if __name__ == \"__main__\":\n",
    "    # Read in file as pandas dataframe\n",
    "    hervs_df = pd.read_table(\"/dors/capra_lab/users/yand1/te_ml/data/2018_07_06_genome_shuffle/all_pairs.tsv\", header = None)\n",
    "\n",
    "    # Split data frame into parts.\n",
    "    df_list = split_data(df = hervs_df)\n",
    "    \n",
    "    # Save to files\n",
    "    count = 0;\n",
    "    for df in df_list:\n",
    "        df.to_csv(\"/dors/capra_lab/users/yand1/te_ml/data/2018_07_06_genome_shuffle/batch_input/shuffle_\" + str(count) + \".tsv\", \n",
    "                       sep = '\\t', index = False, header = False)\n",
    "        count += 1"
   ]
  }
 ],
 "metadata": {
  "kernelspec": {
   "display_name": "Python 3",
   "language": "python",
   "name": "python3"
  },
  "language_info": {
   "codemirror_mode": {
    "name": "ipython",
    "version": 3
   },
   "file_extension": ".py",
   "mimetype": "text/x-python",
   "name": "python",
   "nbconvert_exporter": "python",
   "pygments_lexer": "ipython3",
   "version": "3.6.4"
  }
 },
 "nbformat": 4,
 "nbformat_minor": 2
}
