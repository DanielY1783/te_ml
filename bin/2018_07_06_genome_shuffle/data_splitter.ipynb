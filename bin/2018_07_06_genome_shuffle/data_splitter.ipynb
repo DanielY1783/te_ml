{
 "cells": [
  {
   "cell_type": "markdown",
   "metadata": {},
   "source": [
    "Module version of similar file at /dors/capra_lab/users/yand1/te_ml/bin/2018_06_28_kmers_faster/accre\n",
    "Splits data frame into smaller data frames and save to files as necessary."
   ]
  },
  {
   "cell_type": "code",
   "execution_count": 1,
   "metadata": {},
   "outputs": [],
   "source": [
    "# Libraries\n",
    "import pandas as pd # Data manipulation "
   ]
  },
  {
   "cell_type": "code",
   "execution_count": 2,
   "metadata": {},
   "outputs": [],
   "source": [
    "# Class constants\n",
    "DIRECTORY = \"/dors/capra_lab/users/yand1/te_ml/\" # Root directory for project\n",
    "DATE_DIR = \"2018_07_06_genome_shuffle/\" # Directory related to date\n",
    "DATA_FILE = \"all_pairs.tsv\"\n",
    "SPLITS = 100 # Number of files to make"
   ]
  },
  {
   "cell_type": "code",
   "execution_count": null,
   "metadata": {},
   "outputs": [],
   "source": [
    "def split_data(df, splits = SPLITS):\n",
    "    \"\"\"Splits dataframe and returns list of new dataframes.\n",
    "    \n",
    "    Args:\n",
    "        df (pd.DataFrame): Data frame to split\n",
    "    \n",
    "        splits(int): Number of splits to make. Default is class constant SPLITS.\n",
    "        \n",
    "    Return:\n",
    "        \"\"\"\n",
    "    smaller_dfs_list = []\n",
    "    for i in range(SPLITS):\n",
    "        start_row = i * (rows_num/SPLITS)\n",
    "        end_row = (i + 1) * (rows_num/SPLITS)\n",
    "        temp_df = hervs_df.loc[start_row:end_row,]\n",
    "        smaller_dfs_list.append(temp_df.copy())\n",
    "    return smaller_dfs_list"
   ]
  },
  {
   "cell_type": "code",
   "execution_count": 3,
   "metadata": {},
   "outputs": [],
   "source": [
    "def main():\n",
    "    # Read in file as pandas dataframe\n",
    "    hervs_df = pd.read_table(DIRECTORY + \"data/\" + DATE_DIR + DATA_FILE, header = None)\n",
    "    \n",
    "    # Store number of rows in data file.\n",
    "    rows_num = hervs_df.shape[0]\n",
    "    \n",
    "    # Split data frame into parts.\n",
    "    for i in range(SPLITS):\n",
    "        start_row = i * (rows_num/SPLITS)\n",
    "        end_row = (i + 1) * (rows_num/SPLITS)\n",
    "        temp_df = hervs_df.loc[start_row:end_row,]\n",
    "        # Save to file\n",
    "        temp_df.to_csv(DIRECTORY + \"data/\" + DATE_DIR + \"/batch_input/shuffle_\" + str(i) + \".tsv\", \n",
    "                       sep = '\\t', index = False, header = False)"
   ]
  },
  {
   "cell_type": "code",
   "execution_count": 4,
   "metadata": {},
   "outputs": [],
   "source": [
    "# Call main to run\n",
    "main()"
   ]
  }
 ],
 "metadata": {
  "kernelspec": {
   "display_name": "Python 3",
   "language": "python",
   "name": "python3"
  },
  "language_info": {
   "codemirror_mode": {
    "name": "ipython",
    "version": 3
   },
   "file_extension": ".py",
   "mimetype": "text/x-python",
   "name": "python",
   "nbconvert_exporter": "python",
   "pygments_lexer": "ipython3",
   "version": "3.6.4"
  }
 },
 "nbformat": 4,
 "nbformat_minor": 2
}
