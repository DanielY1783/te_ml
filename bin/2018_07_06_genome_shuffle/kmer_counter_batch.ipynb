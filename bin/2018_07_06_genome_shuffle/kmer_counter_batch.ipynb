{
 "cells": [
  {
   "cell_type": "markdown",
   "metadata": {},
   "source": [
    "Modular version of kmer counter.\n",
    "\n",
    "If run as standalone script, counts kmers within \n",
    "/dors/capra_lab/users/yand1/te_ml/data/2018_07_06_genome_shuffle/all_pairs.tsv\n",
    "and saves kmer counts as features matrix for machine learning."
   ]
  },
  {
   "cell_type": "code",
   "execution_count": 1,
   "metadata": {},
   "outputs": [],
   "source": [
    "# Libraries\n",
    "import pandas as pd # Data manipulation \n",
    "from itertools import product # For generating all possible 6-mers\n",
    "import sys # For getting name of data file as command line argument"
   ]
  },
  {
   "cell_type": "code",
   "execution_count": 2,
   "metadata": {},
   "outputs": [],
   "source": [
    "# Class constants\n",
    "DIRECTORY = \"/dors/capra_lab/users/yand1/te_ml/\" # Root directory for project\n",
    "DATE_DIR = \"2018_07_06_genome_shuffle/\" # Directory corresponding to date\n",
    "DATA_FILE = \"all_pairs.tsv\"\n",
    "WRITE_FILE = \"shuffle_features_matrix.tsv\" # File to save results to\n",
    "K = 6 # Length of \"k\" value for k-mer\n",
    "CHR = 0 # Column of chromosome of herv in data file\n",
    "START = 1 # Column of start location of herv in data file\n",
    "END = 2 # Column of end location of herv in data file\n",
    "HERV = 3 # Column with HERV\n",
    "PAIRS = 4 # Column with string of actual pairs within herv\n",
    "ALPHABET = \"acgt\" # Alphabet of base pairs in k-mers"
   ]
  },
  {
   "cell_type": "code",
   "execution_count": 3,
   "metadata": {},
   "outputs": [],
   "source": [
    "def generate_kmers():\n",
    "    \"\"\"Return all combinations of k-mers in alphabet to use as features.\n",
    "    \n",
    "    Return: \n",
    "        kmers_list(list): List that contains strings of all possible k-mers\n",
    "        from the given \"k\" value and alphabet\n",
    "    \"\"\"\n",
    "    # Use product to generate iterator that contains all k-mers\n",
    "    kmers_iter = product(ALPHABET, repeat = K)\n",
    "    # Join all the characters to form a list of strings\n",
    "    kmers_list = [''.join(i) for i in kmers_iter]\n",
    "    return kmers_list"
   ]
  },
  {
   "cell_type": "code",
   "execution_count": 4,
   "metadata": {},
   "outputs": [],
   "source": [
    "def count_kmers(features_df):\n",
    "    \"\"\"Applies counting repetitions of kmers to the entire data frame.\n",
    "        \n",
    "    Args:\n",
    "        features_df(pd.DataFrame): Data frames containing the base pairs to be updated.\n",
    "        \n",
    "    Return:\n",
    "        features_df(pd.DataFrame): Data frame with columns of k-mers updated to reflect \n",
    "                                counts within base pairs to use as features matrix.\n",
    "    \"\"\"\n",
    "    features_df = features_df.apply(parse_pairs, axis = \"columns\")\n",
    "    return features_df"
   ]
  },
  {
   "cell_type": "code",
   "execution_count": 5,
   "metadata": {},
   "outputs": [],
   "source": [
    "def parse_pairs(row):\n",
    "    \"\"\"Counts the repetitions of each k-mer within the row.\n",
    "    \n",
    "    Args:\n",
    "        row(pd.Series): Single row representing a HERV to parse for the number of each k-mer.\n",
    "\n",
    "    Return: \n",
    "        row(pd.Series): Row that is updated with count of each k-mer within the HERV.\n",
    "    \"\"\"\n",
    "    # Get base pairs in current row\n",
    "    pairs = row[PAIRS].lower()\n",
    "    # Find k-mers in base pairs using a sliding window and update count in features matrix\n",
    "    for i in range(len(pairs) - K):\n",
    "        kmer = pairs[i: i + K]\n",
    "        # Check that the column exists\n",
    "        if kmer in row:\n",
    "            # Update corresponding column number in features matrix\n",
    "            row.loc[kmer] += 1\n",
    "    return row"
   ]
  },
  {
   "cell_type": "code",
   "execution_count": null,
   "metadata": {},
   "outputs": [],
   "source": [
    "def normalize_counts(df):\n",
    "    \"\"\"Normalize all kmer counts by dividing by the total number of\n",
    "    \"\"\"\n",
    "    # Normalize counts by dividing kmer counts in each row by the number of bases\n",
    "    df = df.apply(normalize_row, axis = \"columns\")\n",
    "    return df"
   ]
  },
  {
   "cell_type": "code",
   "execution_count": null,
   "metadata": {},
   "outputs": [],
   "source": [
    "def normalize_row(row):\n",
    "    \"\"\"Divides the count of kmers by the number of pairs to get normalized value for PCA\n",
    "    \n",
    "    Args:\n",
    "        row(pd.Series): Single row representing a HERV with counts of k-mers\n",
    "        \n",
    "    Return:\n",
    "        row(pd.Series): Row that has k-mer counts divided by number of base pairs\n",
    "    \"\"\"\n",
    "    # Get number of pairs in current row\n",
    "    pairs_length = len(row[PAIRS])\n",
    "    \n",
    "    # Update k-kmer counts\n",
    "    for i in range(PAIRS + 1, len(row)):\n",
    "        row.iloc[i] = (row.iloc[i])/pairs_length\n",
    "    \n",
    "    return row"
   ]
  },
  {
   "cell_type": "code",
   "execution_count": 6,
   "metadata": {},
   "outputs": [],
   "source": [
    "## Main\n",
    "def main():\n",
    "    # Get name of data file to process from command line.\n",
    "    data_file = sys.argv[1]\n",
    "    # File to write features matrix to. Remove \".tsv\" from the original first, then add new ending.\n",
    "    write_file = data_file[:-4] + \"_features_matrix.tsv\" \n",
    "    \n",
    "    # Read in file as pandas dataframe\n",
    "    hervs_df = pd.read_table(DIRECTORY + \"data\" + DATE_DIR + \"batch_input/\" +\n",
    "                             data_file, header = None)\n",
    "    \n",
    "    # Rename columns\n",
    "    hervs_df = hervs_df.rename(columns = {CHR: \"chr\", START: \"start\", END: \"end\",\n",
    "                                          LABEL: \"label\", PAIRS: \"pairs\"})\n",
    "    \n",
    "    # Generate all possible k-mers\n",
    "    kmers_list = generate_kmers()\n",
    "                                          \n",
    "    # Create features matrix with columns as the different kmers\n",
    "    features_df = hervs_df.reindex(columns = (hervs_df.columns.tolist() + kmers_list), \n",
    "                                                      fill_value = 0)\n",
    "    \n",
    "    # Update the features matrix by going through all the base pair strings and counting\n",
    "    # how many times each k-mer appears.\n",
    "    features_df = count_kmers(features_df = features_df)\n",
    "    \n",
    "    # Save to file\n",
    "    features_df.to_csv(DIRECTORY + \"data\" + DATE_DIR + \"batch_output/\" + write_file, \n",
    "                       sep = '\\t', index = False)"
   ]
  },
  {
   "cell_type": "code",
   "execution_count": 7,
   "metadata": {},
   "outputs": [],
   "source": [
    "main() # Call main to run"
   ]
  }
 ],
 "metadata": {
  "kernelspec": {
   "display_name": "Python 3",
   "language": "python",
   "name": "python3"
  },
  "language_info": {
   "codemirror_mode": {
    "name": "ipython",
    "version": 3
   },
   "file_extension": ".py",
   "mimetype": "text/x-python",
   "name": "python",
   "nbconvert_exporter": "python",
   "pygments_lexer": "ipython3",
   "version": "3.6.4"
  }
 },
 "nbformat": 4,
 "nbformat_minor": 2
}
