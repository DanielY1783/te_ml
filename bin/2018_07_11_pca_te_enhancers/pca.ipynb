{
 "cells": [
  {
   "cell_type": "markdown",
   "metadata": {},
   "source": [
    "Name: Daniel Yan\n",
    "\n",
    "Email: daniel.yan@vanderbilt.edu\n",
    "\n",
    "Module for an incremental principal component analysis on larger data sets."
   ]
  },
  {
   "cell_type": "code",
   "execution_count": null,
   "metadata": {},
   "outputs": [],
   "source": [
    "# Libaries\n",
    "from sklearn.decomposition import PCA, IncrementalPCA\n",
    "import numpy as np\n",
    "import matplotlib\n",
    "matplotlib.use(\"Agg\") # Avoid display error\n",
    "import matplotlib.pyplot as plt\n",
    "import pandas as pd"
   ]
  },
  {
   "cell_type": "code",
   "execution_count": null,
   "metadata": {},
   "outputs": [],
   "source": [
    "# Class Constants\n",
    "N_COMPONENTS = 2 # Number of principal components to keep\n",
    "BATCH_SIZE = None # Size of incremental pca batch to control for memory usage. Can be int or None."
   ]
  },
  {
   "cell_type": "code",
   "execution_count": null,
   "metadata": {},
   "outputs": [],
   "source": [
    "def create_ipca(features, n_components = N_COMPONENTS, batch_size = BATCH_SIZE):\n",
    "    \"\"\"Create an incremental pca based on a features matrix and return the transformed coordinates\n",
    "    \n",
    "    Keyword Arguments:\n",
    "        features: Array-like object containing the features to do a PCA on.\n",
    "        \n",
    "        n_components: Number of dimensions to reduce down to (default N_COMPONENTS).\n",
    "        \n",
    "        batch_size: Size to use for incremental PCA. Can be integer or None (default BATCH_SIZE)\n",
    "        \n",
    "    Return:\n",
    "        Numpy array with coordinates of principal components in columns. Column 0 contains component\n",
    "        accounting for most variation, column 1 contains component accounting for second-most,\n",
    "        and so on.\n",
    "    \"\"\"\n",
    "    # Create the incremental PCA\n",
    "    ipca = IncrementalPCA(n_components = N_COMPONENTS, batch_size = BATCH_SIZE)\n",
    "    return ipca.fit_transform(features_df)"
   ]
  },
  {
   "cell_type": "code",
   "execution_count": null,
   "metadata": {},
   "outputs": [],
   "source": [
    "def label_coordinates(transformed_coordinates, labels, labels_col_name = \"label\"):\n",
    "    \"\"\"Labels the transformed coordinates with the correct group.\n",
    "    \n",
    "    Keyword Arguments:\n",
    "        transformed_coordinates: Numpy array containing the coordinates in the principal components\n",
    "        \n",
    "        labels: Array-like object containing labels for the coordinates. The labels should be in\n",
    "            the same order as the rows in transformed_coordinates\n",
    "            \n",
    "        labels_col_name: String for the name of the column containing the labels within the dataframe\n",
    "            (default = \"label\")\n",
    "        \n",
    "    Return: Pandas dataframe with labels inserted as the last column of transformed_coordinates\n",
    "    \"\"\"\n",
    "    # Convert transformed coordinates to pandas dataframe\n",
    "    transformed_df = pd.DataFrame(transformed_coordinates)\n",
    "    \n",
    "    # Label the transformed data\n",
    "    transformed_df[labels_col_name] = labels\n",
    "    \n",
    "    return transformed_df"
   ]
  },
  {
   "cell_type": "code",
   "execution_count": null,
   "metadata": {},
   "outputs": [],
   "source": [
    "def scatterplot_pca(df, file_name, labels_list, colors_list, labels_col_name = \"label\",\n",
    "                    figsize = (20, 20), fontsize = 30, title = \"\", alpha = 0.2, \n",
    "                    component_x = 1, component_y = 2, x_label = \"\", y_label = \"\"):\n",
    "    \"\"\"Create a scatter plot for the PCA with different groups labeled by color and saves to file\n",
    "    \n",
    "    Keyword Arguments:\n",
    "        df: Pandas data frame containing coordinates of principal component 1 on column 0, coordinates\n",
    "            of principal component 2 on column 1, and labels in column 2. \n",
    "            \n",
    "        file_name: String name of the directory and file to save to\n",
    "        \n",
    "        labels_list: List of labels used to label the data\n",
    "        \n",
    "        colors_list: List of colors used for the different labels.\n",
    "        \n",
    "        labels_col_name: String for the name of the column containing the labels within the dataframe\n",
    "            (default = \"label\"). Must be same as labels_col_name parameter in \n",
    "            label_coordinates function.\n",
    "        \n",
    "        figsize: Tuple containing height and width of the figure in inches (default (20, 20))\n",
    "        \n",
    "        fontsize: Integer size of the font for title and legend (default = 30)\n",
    "        \n",
    "        title: String title for the plot (default is empty string)\n",
    "        \n",
    "        alpha: Alpha level for points on scatter plot (default = 0.2)\n",
    "        \n",
    "        component_x: Principal component to plot on x-axis (default is 1, which is principal\n",
    "            component accounting for most variation)\n",
    "            \n",
    "        component_y: Principal component to plot on y-axis (default is 2, which is principal\n",
    "            component accounting for second most variation)\n",
    "            \n",
    "        x_label: String to label x-axis (default is empty string)\n",
    "        \n",
    "        y_label: String to label y-axis (default is empty string)\n",
    "    \"\"\"\n",
    "    # Plot the pca\n",
    "    plt.figure(figsize=figsize)\n",
    "    \n",
    "    # Create tuples matching labels to colors, and plot points corresponding to each label\n",
    "    # one label at a time on the scatter plot\n",
    "    for label, color in zip(labels_list, colors_list):\n",
    "        \n",
    "        # Select rows that correspond to the current label\n",
    "        rows = df.loc[df.loc[:,labels_col_name] == label]\n",
    "        # Plot on the points corresponding to the current label on the plot with \n",
    "        # unique color\n",
    "        plt.scatter(rows.iloc[:,(component_x - 1)], rows.iloc[:,(component_y - 1)], \n",
    "                    color = color, label = label, alpha = alpha)\n",
    "    \n",
    "    plt.title(title, fontsize = fontsize)\n",
    "    plt.legend(fontsize = fontsize)\n",
    "    plt.xlabel(x_label, fontsize = fontsize)\n",
    "    plt.ylabel(y_label, fontsize = fontsize)\n",
    "    plt.savefig(file_name)\n",
    "    plt.close()"
   ]
  }
 ],
 "metadata": {
  "kernelspec": {
   "display_name": "Python 3",
   "language": "python",
   "name": "python3"
  },
  "language_info": {
   "codemirror_mode": {
    "name": "ipython",
    "version": 3
   },
   "file_extension": ".py",
   "mimetype": "text/x-python",
   "name": "python",
   "nbconvert_exporter": "python",
   "pygments_lexer": "ipython3",
   "version": "3.6.4"
  }
 },
 "nbformat": 4,
 "nbformat_minor": 2
}
