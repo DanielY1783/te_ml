{
 "cells": [
  {
   "cell_type": "markdown",
   "metadata": {},
   "source": [
    "Name: Daniel Yan\n",
    "    \n",
    "Email: daniel.yan@vanderbilt.edu\n",
    "\n",
    "Principal component analysis on HERVs, enhancers, HERV-enhancer intersect, and control population of shuffled parts of the human genome."
   ]
  },
  {
   "cell_type": "code",
   "execution_count": 1,
   "metadata": {},
   "outputs": [],
   "source": [
    "# Libaries\n",
    "import pandas as pd\n",
    "import pca\n",
    "from sklearn.decomposition import IncrementalPCA\n",
    "import matplotlib\n",
    "matplotlib.use(\"Agg\") # Avoid display error\n",
    "import matplotlib.pyplot as plt\n",
    "import itertools"
   ]
  },
  {
   "cell_type": "code",
   "execution_count": 2,
   "metadata": {},
   "outputs": [],
   "source": [
    "# Constants\n",
    "ROOT_DIR = \"../../\" # Root directory for project"
   ]
  },
  {
   "cell_type": "code",
   "execution_count": null,
   "metadata": {},
   "outputs": [],
   "source": [
    "def generate_permutations(elements, n = 2):\n",
    "    \"\"\"Generates a list of of all permutations of the elements of the original iterable. \n",
    "        Permutations are each in own list.\n",
    "    \n",
    "    Keyword Arguments:\n",
    "        elements: Iterable of all elements to permute. Iterable should contain unique elements.\n",
    "        \n",
    "        n: Integer length of the permutations. The returned list will contain iterables of length n.\n",
    "            (default is 2)\n",
    "        \n",
    "    Returns:\n",
    "        permutations_list: List of iterables, where each inner iterable is of the same type as the\n",
    "            original iterable and contains one permutation of the original element, and the \n",
    "            list contains all permutations.\n",
    "    \"\"\"\n",
    "    # Use product to generate iterator that contains all k-mers\n",
    "    permutations_iter = product(elements, repeat = n)\n",
    "    # Join all the characters to form a list of strings\n",
    "    permutations_list = [''.join(i) for i in permutations_iter]\n",
    "    return permutations_list"
   ]
  },
  {
   "cell_type": "code",
   "execution_count": 3,
   "metadata": {},
   "outputs": [],
   "source": [
    "def main():\n",
    "    \"\"\"Main function to run everything\n",
    "    \"\"\"\n",
    "    # Load in data file\n",
    "    df = pd.read_table(ROOT_DIR + \"data/2018_07_11_pca_te_enhancers/test.tsv\")\n",
    "    \n",
    "    \n",
    "    # Get features used in PCA\n",
    "    features_df = df.loc[:,\"aaaaaa\":\"tttttt\"]\n",
    "    \n",
    "    # Get labels\n",
    "    labels_df = df.loc[:,\"label\"]\n",
    "    \n",
    "    # Create the PCA\n",
    "    ipca = IncrementalPCA(n_components = 10)\n",
    "    features_transformed = ipca.fit_transform(features_df)\n",
    "    \n",
    "    # Label the transformed coordinates\n",
    "    transformed_df = pca.label_coordinates(transformed_coordinates = features_transformed, \n",
    "                                       labels = labels_df)\n",
    "    \n",
    "    # Get a list of all unique labels\n",
    "    labels_list = list(set(labels_df))\n",
    "\n",
    "    # List of colors to use in plot\n",
    "    colors_list = [\"orangered\", \"indigo\", \"limegreen\", \"dodgerblue\"]\n",
    "\n",
    "    # Create combinations of principal components to plot\n",
    "    components = (1, 2, 3, 4, 5)\n",
    "    combinations_list = \n",
    "    \n",
    "#     # Plot the pca\n",
    "#     pca.scatterplot_pca(df = transformed_df, file_name = \n",
    "#                     \"/dors/capra_lab/users/yand1/te_ml/results/2018_07_10_pca_te_enhancers/pca.png\",\n",
    "#                    labels_set = set(labels_df), colors_list = [\"orangered\", \"indigo\", \"lime\", \"cyan\"],\n",
    "#                    title = \"PCA on HERVs, enhancers, HERV-enhancer overlap, and shuffled human genome as control using 6-mers\", \n",
    "#                    alpha = 0.2)\n",
    "    \n",
    "#     # Plot just the HERVs\n",
    "#     pca.scatterplot_pca(df = transformed_df, file_name = \n",
    "#                     \"/dors/capra_lab/users/yand1/te_ml/results/2018_07_10_pca_te_enhancers/pca_hervs.png\",\n",
    "#                    labels_set = set([\"herv_only\"]), colors_list = [\"orangered\"],\n",
    "#                    title = \"HERVs only\", \n",
    "#                    alpha = 0.2)\n",
    "    \n",
    "#     # Plot just the enhancers\n",
    "#     pca.scatterplot_pca(df = transformed_df, file_name = \n",
    "#                     \"/dors/capra_lab/users/yand1/te_ml/results/2018_07_10_pca_te_enhancers/pca_enhancers.png\",\n",
    "#                    labels_set = set([\"enhancer_only\"]), colors_list = [\"indigo\"],\n",
    "#                    title = \"Enhancers only\", \n",
    "#                    alpha = 0.2)\n",
    "    \n",
    "#     # Plot just HERV-enhancer intersection\n",
    "#     pca.scatterplot_pca(df = transformed_df, file_name = \n",
    "#                     \"/dors/capra_lab/users/yand1/te_ml/results/2018_07_10_pca_te_enhancers/pca_intersect.png\",\n",
    "#                    labels_set = set([\"herv_enhancer_intersect\"]), colors_list = [\"lime\"],\n",
    "#                    title = \"HERV-enhancer intersect\", \n",
    "#                    alpha = 0.2)    \n",
    "    \n",
    "#     # Plot just the control of shuffled elements in the human genome\n",
    "#     pca.scatterplot_pca(df = transformed_df, file_name = \n",
    "#                     \"/dors/capra_lab/users/yand1/te_ml/results/2018_07_10_pca_te_enhancers/pca_control.png\",\n",
    "#                    labels_set = set([\"shuffled_genome\"]), colors_list = [\"cyan\"],\n",
    "#                    title = \"Control\", \n",
    "#                    alpha = 0.2)\n",
    "    \n",
    "    # Print out the explained variance ratios to file\n",
    "    with open(ROOT_DIR + \"results/2018_07_11_pca_te_enhancers/test_variance_ratios.txt\", \n",
    "              mode = \"w+\") as file:\n",
    "        count = 1\n",
    "        for i in ipca.explained_variance_ratio_:\n",
    "            file.write(\"Explained Variance Ratio for Component {}: {}\".format(count, i))\n",
    "            count += 1"
   ]
  },
  {
   "cell_type": "code",
   "execution_count": 4,
   "metadata": {},
   "outputs": [
    {
     "name": "stdout",
     "output_type": "stream",
     "text": [
      "['herv_enhancer_intersect', 'herv_only', 'enhancer_only', 'shuffled_genome']\n"
     ]
    }
   ],
   "source": [
    "# Call main to run\n",
    "main()"
   ]
  }
 ],
 "metadata": {
  "kernelspec": {
   "display_name": "Python 3",
   "language": "python",
   "name": "python3"
  },
  "language_info": {
   "codemirror_mode": {
    "name": "ipython",
    "version": 3
   },
   "file_extension": ".py",
   "mimetype": "text/x-python",
   "name": "python",
   "nbconvert_exporter": "python",
   "pygments_lexer": "ipython3",
   "version": "3.6.4"
  }
 },
 "nbformat": 4,
 "nbformat_minor": 2
}
