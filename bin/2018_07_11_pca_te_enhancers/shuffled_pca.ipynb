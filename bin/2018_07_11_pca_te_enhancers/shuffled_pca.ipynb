{
 "cells": [
  {
   "cell_type": "markdown",
   "metadata": {},
   "source": [
    "Name: Daniel Yan\n",
    "    \n",
    "Email: daniel.yan@vanderbilt.edu\n",
    "\n",
    "Principal component analysis on HERVs, enhancers, HERV-enhancer intersect, and control population of shuffled parts of the human genome."
   ]
  },
  {
   "cell_type": "code",
   "execution_count": null,
   "metadata": {},
   "outputs": [],
   "source": [
    "# Libaries\n",
    "import pandas as pd\n",
    "import pca # Module containing wrappers for plotting PCAs\n",
    "from sklearn.decomposition import IncrementalPCA\n",
    "import matplotlib\n",
    "matplotlib.use(\"Agg\") # Avoid display error\n",
    "import matplotlib.pyplot as plt\n",
    "import itertools # Generator"
   ]
  },
  {
   "cell_type": "code",
   "execution_count": null,
   "metadata": {},
   "outputs": [],
   "source": [
    "# Constants\n",
    "_ROOT_DIR = \"../../\" # Root directory for project\n",
    "COLORS_LIST = [\"orangered\", \"indigo\", \"limegreen\", \"dodgerblue\"]\n",
    "N_COMPONENTS = 10 # Number of components in PCA"
   ]
  },
  {
   "cell_type": "code",
   "execution_count": null,
   "metadata": {},
   "outputs": [],
   "source": [
    "def generate_configurations(elements, n = 2):\n",
    "    \"\"\"Generates a list containing tuples of the elements of the original iterable in all possible\n",
    "        configurations, with repeat elements allowed.\n",
    "    \n",
    "    Keyword Arguments:\n",
    "        elements: Iterable of all elements to permute. Iterable should contain unique elements.\n",
    "        \n",
    "        n: Integer length of the permutations. The returned list will contain tuples of n elements.\n",
    "            (default is 2)\n",
    "        \n",
    "    Returns:\n",
    "        configurations_list: List of all possible tuples, such that each inner tuple contains one\n",
    "            configuration formed from elements in the original iterable (repeats allowed).\n",
    "    \"\"\"\n",
    "    # Use product to generate iterator that contains permutations\n",
    "    permutations_iter = itertools.product(elements, repeat = n)\n",
    "    return list(permutations_iter)"
   ]
  },
  {
   "cell_type": "code",
   "execution_count": null,
   "metadata": {},
   "outputs": [],
   "source": [
    "def generate_combinations(elements, n = 2):\n",
    "    \"\"\"Generates a list of of all combinations of the elements of the original iterable. \n",
    "        Combinations are each in own list and will not contain repeated elements.\n",
    "    \n",
    "    Keyword Arguments:\n",
    "        elements: Iterable of all elements. Iterable should contain unique elements.\n",
    "        \n",
    "        n: Integer length of the combinations. The returned list will contain tuples of n elements.\n",
    "            (default is 2)\n",
    "        \n",
    "    Returns:\n",
    "        combinations_list: List of tuples, where each inner tuple contains one combination \n",
    "            of the original element, and the list contains all combinations.\n",
    "    \"\"\"\n",
    "    # Use product to generate iterator that contains permutations\n",
    "    combinations_iter = itertools.combinations(elements, r = n)\n",
    "    return list(combinations_iter)"
   ]
  },
  {
   "cell_type": "code",
   "execution_count": null,
   "metadata": {},
   "outputs": [],
   "source": [
    "if __name__ == \"__main__\":\n",
    "        # Load in data file\n",
    "        df = pd.read_table(_ROOT_DIR + \"data/2018_07_11_pca_te_enhancers/test.tsv\")\n",
    "\n",
    "        # Get features used in PCA\n",
    "        features_df = df.loc[:,\"aaaaaa\":\"tttttt\"]\n",
    "\n",
    "        # Get labels\n",
    "        labels_df = df.loc[:,\"label\"]\n",
    "\n",
    "        # Create the PCA\n",
    "        ipca = IncrementalPCA(n_components = N_COMPONENTS)\n",
    "        features_transformed = ipca.fit_transform(features_df)\n",
    "\n",
    "        # Label the transformed coordinates\n",
    "        transformed_df = pca.label_coordinates(transformed_coordinates = features_transformed, \n",
    "                                           labels = labels_df)\n",
    "\n",
    "        # Get a list of all unique labels\n",
    "        labels_list = list(set(labels_df))\n",
    "\n",
    "        # Create combinations of principal components to plot\n",
    "        components = (1, 2, 3, 4, 5)\n",
    "        combinations_list = generate_combinations(components)\n",
    "\n",
    "        # Plot different combinations of principal components\n",
    "        for combination in combinations_list:\n",
    "            \n",
    "            component_x = combination[0] # Component on x-axis\n",
    "            component_y = combination[1] # Component on y-axis\n",
    "            \n",
    "            # Plot the pca\n",
    "            pca.scatterplot_pca(df = transformed_df, \n",
    "                                file_name = _ROOT_DIR + \"results/2018_07_11_pca_te_enhancers\"\n",
    "                                \"/components_{}_{}/pca.png\"\n",
    "                                    .format(component_x, component_y),\n",
    "                                labels_list = labels_list,\n",
    "                                colors_list = COLORS_LIST,\n",
    "                                title = \"All labels on components {} and {}\"\n",
    "                                    .format(component_x, component_y),\n",
    "                                component_x = component_x,\n",
    "                                component_y = component_y,\n",
    "                                x_label = \"Component {} accounting for {}% of variation\".format(\n",
    "                                    component_x, 100 * ipca.explained_variance_ratio_[component_x]),\n",
    "                                y_label = \"Component {} accounting for {}% of variation\".format(\n",
    "                                    component_y, 100 * ipca.explained_variance_ratio_[component_y]))\n",
    "\n",
    "        # Print out the explained variance ratios to file\n",
    "        with open(_ROOT_DIR + \"results/2018_07_11_pca_te_enhancers/test_variance_ratios.txt\", \n",
    "                  mode = \"w+\") as file:\n",
    "            count = 1\n",
    "            for i in ipca.explained_variance_ratio_:\n",
    "                file.write(\"Explained Variance Ratio for Component {}: {}%\\n\".format(count, i * 100))\n",
    "                count += 1"
   ]
  }
 ],
 "metadata": {
  "kernelspec": {
   "display_name": "Python 3",
   "language": "python",
   "name": "python3"
  },
  "language_info": {
   "codemirror_mode": {
    "name": "ipython",
    "version": 3
   },
   "file_extension": ".py",
   "mimetype": "text/x-python",
   "name": "python",
   "nbconvert_exporter": "python",
   "pygments_lexer": "ipython3",
   "version": "3.6.4"
  }
 },
 "nbformat": 4,
 "nbformat_minor": 2
}
