{
 "cells": [
  {
   "cell_type": "markdown",
   "metadata": {},
   "source": [
    "File to run tests on functions within shuffled_pca.py that are easy to test"
   ]
  },
  {
   "cell_type": "code",
   "execution_count": null,
   "metadata": {},
   "outputs": [],
   "source": [
    "# Tests for shuffled_pca.py\n",
    "import shuffled_pca as sp\n",
    "\n",
    "def test_generate_configurations_1():\n",
    "    assert sp.generate_configurations([]) == []\n",
    "\n",
    "def test_generate_configurations_2():\n",
    "    assert sp.generate_configurations([1, 2, 3]) == [(1, 1), (1, 2), (1, 3), (2, 1), (2, 2,), (2, 3),\n",
    "                                               (3, 1), (3, 2), (3, 3)]\n",
    "def test_generate_configurations_3():\n",
    "    assert sp.generate_configurations(\"ab\", n = 3) == [('a', 'a', 'a'), ('a', 'a', 'b'), \n",
    "                                                     ('a', 'b', 'a'), ('a', 'b', 'b'), \n",
    "                                                     ('b', 'a', 'a'), ('b', 'a', 'b'),\n",
    "                                                     ('b', 'b', 'a'), ('b','b', 'b')]\n",
    "def test_generate_combinations_1():\n",
    "    assert sp.generate_combinations([]) == []\n",
    "\n",
    "def test_generate_combinations_2():\n",
    "    assert sp.generate_combinations([1, 2, 3]) == [(1, 2), (1, 3), (2, 3)]\n",
    "    \n",
    "def test_generate_combinations_3():\n",
    "    assert sp.generate_combinations(\"ab\", n = 3) == []\n",
    "\n",
    "def test_generate_combinations_4():\n",
    "    assert sp.generate_combinations(\"abcd\", n = 3) == [('a', 'b', 'c'), ('a', 'b', 'd'),\n",
    "                                                      ('a', 'c', 'd'), ('b', 'c', 'd')]"
   ]
  }
 ],
 "metadata": {
  "kernelspec": {
   "display_name": "Python 3",
   "language": "python",
   "name": "python3"
  },
  "language_info": {
   "codemirror_mode": {
    "name": "ipython",
    "version": 3
   },
   "file_extension": ".py",
   "mimetype": "text/x-python",
   "name": "python",
   "nbconvert_exporter": "python",
   "pygments_lexer": "ipython3",
   "version": "3.6.4"
  }
 },
 "nbformat": 4,
 "nbformat_minor": 2
}
