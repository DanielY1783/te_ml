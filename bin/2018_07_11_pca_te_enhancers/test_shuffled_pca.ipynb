{
 "cells": [
  {
   "cell_type": "markdown",
   "metadata": {},
   "source": [
    "File to run tests on functions within shuffled_pca.py that are easy to test"
   ]
  },
  {
   "cell_type": "code",
   "execution_count": null,
   "metadata": {},
   "outputs": [],
   "source": [
    "# Tests for shuffled_pca.py\n",
    "import shuffled_pca as sp\n",
    "\n",
    "def test_generate_permutations_1():\n",
    "    assert sp.generate_components([]) = []\n",
    "\n",
    "def test_generate_permutations_2():\n",
    "    assert sp.generate_components([1, 2, 3]) = [[1, 1], [1, 2], [1, 3], [2, 1], [2, 2,], [2, 3],\n",
    "                                               [3, 1], [3, 2], [3, 3]]\n",
    "def test_generate_permutations_3():\n",
    "    assert sp.generate_components(\"ab\", n = 3) = [\"aaa\", \"aab\", \"aba\", \"abb\", \"baa\", \"bab\",\n",
    "                                                 \"bba\", \"bbb\"]"
   ]
  }
 ],
 "metadata": {
  "kernelspec": {
   "display_name": "Python 3",
   "language": "python",
   "name": "python3"
  },
  "language_info": {
   "codemirror_mode": {
    "name": "ipython",
    "version": 3
   },
   "file_extension": ".py",
   "mimetype": "text/x-python",
   "name": "python",
   "nbconvert_exporter": "python",
   "pygments_lexer": "ipython3",
   "version": "3.6.4"
  }
 },
 "nbformat": 4,
 "nbformat_minor": 2
}
