{
 "cells": [
  {
   "cell_type": "markdown",
   "metadata": {},
   "source": [
    "Changes columns of /dors/capra_lab/users/yand1/te_ml/data/2018_06_29_kmers_enhancers_intersect/hervs_kmers_intersect_enhancers.tsv \n",
    "so that overlap of enhancers and hervs is a single boolean value in the last column; 1 for overlap, 0 for no overlap. Result is stored to:\n",
    "/dors/capra_lab/users/yand1/te_ml/data/2018_06_29_kmers_enhancers_intersect/reformatted_hervs_kmers_intersect_enhancers.tsv "
   ]
  },
  {
   "cell_type": "code",
   "execution_count": null,
   "metadata": {},
   "outputs": [],
   "source": [
    "# Class constants\n",
    "DIRECTORY = \"/dors/capra_lab/users/yand1/te_ml/\"\n",
    "DATE_INFO = \"2018_06_29_kmers_enhancers_intersect/\"\n",
    "DATA_FILE = \"hervs_kmers_intersect_enhancers.tsv\"\n",
    "WRITE_FILE = \"reformatted_hervs_kmers_intersect_enhancers.tsv\"\n",
    "CHR_INTERSECT= 4099 # Column of chromosome of intersection\n",
    "START_INTERSECT = 4100 # Column of start location of intersection\n",
    "END_INTERSECT = 4101 # Column of end location of intersection\n",
    "ENHANCER_INFO = 4102 # Column with intersection of enhancer"
   ]
  },
  {
   "cell_type": "code",
   "execution_count": null,
   "metadata": {},
   "outputs": [],
   "source": [
    "def main():\n",
    "    \"\"\"Main function\n",
    "    \"\"\"\n",
    "    # Read in data frame\n",
    "    features_df = pd.read_table(DIRECTORY + \"data/\" + DATE_INFO + DATA_FILE, header = None)\n",
    "    \n",
    "    \n",
    "    # Map 1 for overlap, -1 for no overlap\n",
    "    "
   ]
  },
  {
   "cell_type": "code",
   "execution_count": null,
   "metadata": {},
   "outputs": [],
   "source": [
    "main()"
   ]
  }
 ],
 "metadata": {
  "kernelspec": {
   "display_name": "Python 3",
   "language": "python",
   "name": "python3"
  },
  "language_info": {
   "codemirror_mode": {
    "name": "ipython",
    "version": 3
   },
   "file_extension": ".py",
   "mimetype": "text/x-python",
   "name": "python",
   "nbconvert_exporter": "python",
   "pygments_lexer": "ipython3",
   "version": "3.6.4"
  }
 },
 "nbformat": 4,
 "nbformat_minor": 2
}
