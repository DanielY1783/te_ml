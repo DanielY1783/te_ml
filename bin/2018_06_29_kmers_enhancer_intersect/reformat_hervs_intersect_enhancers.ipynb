{
 "cells": [
  {
   "cell_type": "markdown",
   "metadata": {},
   "source": [
    "Changes columns of /dors/capra_lab/users/yand1/te_ml/data/2018_06_29_kmers_enhancers_intersect/hervs_kmers_intersect_enhancers.tsv \n",
    "so that overlap of enhancers and hervs is a single boolean value in the last column; 1 for overlap, 0 for no overlap. Result is stored to:\n",
    "/dors/capra_lab/users/yand1/te_ml/data/2018_06_29_kmers_enhancers_intersect/reformatted_hervs_kmers_intersect_enhancers.tsv "
   ]
  },
  {
   "cell_type": "code",
   "execution_count": null,
   "metadata": {},
   "outputs": [],
   "source": [
    "# Class constants\n",
    "DIRECTORY = \"/dors/capra_lab/users/yand1/te_ml/\"\n",
    "DATE = \"2018_06_29_kmers_enhancers_intersect/\"\n",
    "DATA_FILE = \"hervs_kmers_intersect_enhancers.tsv\"\n",
    "WRITE_FILE = \"reformatted_hervs_kmers_intersect_enhancers.tsv\""
   ]
  }
 ],
 "metadata": {
  "kernelspec": {
   "display_name": "Python 3",
   "language": "python",
   "name": "python3"
  },
  "language_info": {
   "codemirror_mode": {
    "name": "ipython",
    "version": 3
   },
   "file_extension": ".py",
   "mimetype": "text/x-python",
   "name": "python",
   "nbconvert_exporter": "python",
   "pygments_lexer": "ipython3",
   "version": "3.6.4"
  }
 },
 "nbformat": 4,
 "nbformat_minor": 2
}
