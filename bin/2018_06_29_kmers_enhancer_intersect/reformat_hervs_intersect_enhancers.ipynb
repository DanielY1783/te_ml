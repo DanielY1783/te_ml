{
 "cells": [
  {
   "cell_type": "markdown",
   "metadata": {},
   "source": [
    "Changes columns of /dors/capra_lab/users/yand1/te_ml/data/2018_06_29_kmers_enhancers_intersect/hervs_kmers_intersect_enhancers.tsv \n",
    "so that overlap of enhancers and hervs is a single boolean value in the last column; 1 for overlap, 0 for no overlap. Result is stored to:\n",
    "/dors/capra_lab/users/yand1/te_ml/data/2018_06_29_kmers_enhancers_intersect/reformatted_hervs_kmers_intersect_enhancers.tsv "
   ]
  },
  {
   "cell_type": "code",
   "execution_count": null,
   "metadata": {},
   "outputs": [],
   "source": [
    "# Class constants\n",
    "DIRECTORY = \"/dors/capra_lab/users/yand1/te_ml/\"\n",
    "DATE_INFO = \"2018_06_29_kmers_enhancers_intersect/\"\n",
    "DATA_FILE = \"hervs_kmers_intersect_enhancers.tsv\"\n",
    "REFORMATTED_DATA_FILE = \"reformatted_hervs_kmers_intersect_enhancers.tsv\" # New data file to write to\n",
    "COLUMN_NAMES_FILE = \"header_names.txt\" # File with column names\n",
    "CHR_INTERSECT= 4099 # Column of chromosome of intersection\n",
    "START_INTERSECT = 4100 # Column of start location of intersection\n",
    "END_INTERSECT = 4101 # Column of end location of intersection\n",
    "ENHANCER_INFO = 4102 # Column with intersection of enhancer"
   ]
  },
  {
   "cell_type": "code",
   "execution_count": null,
   "metadata": {},
   "outputs": [],
   "source": [
    "def main():\n",
    "    \"\"\"Main function\n",
    "    \"\"\"\n",
    "    # Read in data frame\n",
    "    features_df = pd.read_table(DIRECTORY + \"data/\" + DATE_INFO + DATA_FILE, header = None)\n",
    "    \n",
    "    \n",
    "    # Change 1 for overlap, -1 for no overlap\n",
    "    features_df.iloc[CHR_INTERSECT] = (features_df.iloc[CHR_INTERSECT].apply\n",
    "                                         (lambda x: 0 if x == \".\" else 1))\n",
    "    \n",
    "    # Drop unneeded columns\n",
    "    features_df.drop([START_INTERSECT, END_INTERSECT, ENHANCER_INFO], axis =\"columns\", inplace = True)\n",
    "    \n",
    "    # Get count of number of overlaps and save to file.\n",
    "    overlaps = features_df.iloc[CHR_INTERSECT].sum()\n",
    "    with open(DIRECTORY + \"results/\" + DATE_INFO + \"count_overlaps.txt\", w+) as file:\n",
    "        file.write(\"Overlaps: \" + str(overlaps) + '\\n')\n",
    "        file.write(\"No overlaps: \" + str(features_df.shape[0] - overlaps) + '\\n')\n",
    "    \n",
    "    # Rename columns using file with column names.\n",
    "    with open(DIRECTORY + \"data/\" + DATE_INFO + COLUMN_NAMES_FILE, mode = \"r\") as file:\n",
    "        lines_list = file.readlines()\n",
    "        # Get the column name using split\n",
    "        for line in lines_list:\n",
    "            column_names.append(lines_list.split(' ')[1])\n",
    "        # Add in enhancer overlap as column name\n",
    "        column_names.append(\"overlap\")\n",
    "        # Rename columns\n",
    "        features_df.columns = column_names\n",
    "    \n",
    "    # Save data frame."
   ]
  },
  {
   "cell_type": "code",
   "execution_count": null,
   "metadata": {},
   "outputs": [],
   "source": [
    "main()"
   ]
  }
 ],
 "metadata": {
  "kernelspec": {
   "display_name": "Python 3",
   "language": "python",
   "name": "python3"
  },
  "language_info": {
   "codemirror_mode": {
    "name": "ipython",
    "version": 3
   },
   "file_extension": ".py",
   "mimetype": "text/x-python",
   "name": "python",
   "nbconvert_exporter": "python",
   "pygments_lexer": "ipython3",
   "version": "3.6.4"
  }
 },
 "nbformat": 4,
 "nbformat_minor": 2
}
