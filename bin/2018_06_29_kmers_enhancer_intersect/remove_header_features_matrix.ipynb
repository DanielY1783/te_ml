{
 "cells": [
  {
   "cell_type": "markdown",
   "metadata": {},
   "source": [
    "Reformats the features matrix at /dors/capra_lab/users/yand1/te_ml/data/2018_06_29_kmers_enhancers_intersect/hervs_kmers_features_matrix.tsv\n",
    "to remove column names."
   ]
  },
  {
   "cell_type": "code",
   "execution_count": null,
   "metadata": {},
   "outputs": [],
   "source": [
    "# Libraries\n",
    "import pandas as pd"
   ]
  },
  {
   "cell_type": "code",
   "execution_count": null,
   "metadata": {},
   "outputs": [],
   "source": [
    "# Class constants\n",
    "DIRECTORY = \"/dors/capra_lab/users/yand1/te_ml/\" # Root directory for project"
   ]
  },
  {
   "cell_type": "code",
   "execution_count": null,
   "metadata": {},
   "outputs": [],
   "source": [
    "## Main\n",
    "def main():\n",
    "    \"\"\"Main function\n",
    "    \"\"\"\n",
    "    # Read in data frame\n",
    "    features_df = pd.read_table(DIRECTORY + \"data/2018_06_29_kmers_enhancers_intersect/hervs_kmers_features_matrix.tsv\")\n",
    "    \n",
    "    # Store header names to file.\n",
    "    with open(DIRECTORY + \"data/2018_06_29_kmers_enhancers_intersect/header_names.txt\", mode = \"a\") as file:\n",
    "        for i in range(len(features_df.columns)):\n",
    "            features_df.write(\"Column \" + str(i) + \": \" + features_df.columns[i])\n",
    "        \n",
    "    \n",
    "    features_df.to_csv(DIRECTORY + \"data/2018_06_29_kmers_enhancers_intersect/no_header_hervs_kmers_features_matrix.tsv\"\n",
    "                      , index = False, header = False)\n",
    "    "
   ]
  },
  {
   "cell_type": "code",
   "execution_count": null,
   "metadata": {},
   "outputs": [],
   "source": [
    "# Call main to run\n",
    "main()"
   ]
  }
 ],
 "metadata": {
  "kernelspec": {
   "display_name": "Python 3",
   "language": "python",
   "name": "python3"
  },
  "language_info": {
   "codemirror_mode": {
    "name": "ipython",
    "version": 3
   },
   "file_extension": ".py",
   "mimetype": "text/x-python",
   "name": "python",
   "nbconvert_exporter": "python",
   "pygments_lexer": "ipython3",
   "version": "3.6.4"
  }
 },
 "nbformat": 4,
 "nbformat_minor": 2
}
