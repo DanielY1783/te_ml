{
 "cells": [
  {
   "cell_type": "markdown",
   "metadata": {},
   "source": [
    "Create a histogram from:\n",
    "/dors/capra_lab/users/yand1/te_ml/data/2018_06_29_kmers_enhancers_intersect/hervs_kmers_features_matrix.tsv\n",
    "by summing up each column (sum of repetitions of each kmer) and plotting those numbers on the x-axis,\n",
    "and the counts on the y-axis."
   ]
  },
  {
   "cell_type": "code",
   "execution_count": null,
   "metadata": {},
   "outputs": [],
   "source": [
    "# Libraries\n",
    "import pandas as pd\n",
    "import matplotlib.pyplot as plt"
   ]
  },
  {
   "cell_type": "code",
   "execution_count": null,
   "metadata": {},
   "outputs": [],
   "source": [
    "# Class constants\n",
    "DIRECTORY = \"/dors/capra_lab/users/yand1/te_ml/\"\n",
    "DATE = \"2018_06_29_kmers_enhancers_intersect/\"\n",
    "READ_FILE = \"hervs_kmers_features_matrix.tsv\" # File with input\n",
    "PLOT_FILE = \"kmers_distribution.png\" # File to store histogram"
   ]
  },
  {
   "cell_type": "code",
   "execution_count": null,
   "metadata": {},
   "outputs": [],
   "source": [
    "## Main\n",
    "def main():\n",
    "    \"\"\"Main function\n",
    "    \"\"\"\n",
    "    # Read in features matrix as dataframe \n",
    "    features_df = pd.read_table()"
   ]
  },
  {
   "cell_type": "code",
   "execution_count": null,
   "metadata": {},
   "outputs": [],
   "source": [
    "# Call main to run \n",
    "main()"
   ]
  }
 ],
 "metadata": {
  "kernelspec": {
   "display_name": "Python 3",
   "language": "python",
   "name": "python3"
  },
  "language_info": {
   "codemirror_mode": {
    "name": "ipython",
    "version": 3
   },
   "file_extension": ".py",
   "mimetype": "text/x-python",
   "name": "python",
   "nbconvert_exporter": "python",
   "pygments_lexer": "ipython3",
   "version": "3.6.4"
  }
 },
 "nbformat": 4,
 "nbformat_minor": 2
}
