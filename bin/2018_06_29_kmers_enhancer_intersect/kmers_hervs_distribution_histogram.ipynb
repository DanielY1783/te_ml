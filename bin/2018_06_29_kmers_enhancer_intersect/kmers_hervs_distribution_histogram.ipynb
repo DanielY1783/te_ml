{
 "cells": [
  {
   "cell_type": "markdown",
   "metadata": {},
   "source": [
    "Create a histogram from:\n",
    "/dors/capra_lab/users/yand1/te_ml/data/2018_06_29_kmers_enhancers_intersect/hervs_kmers_features_matrix.tsv\n",
    "by summing up each column (sum of repetitions of each kmer) and plotting those numbers on the x-axis,\n",
    "and the counts on the y-axis."
   ]
  },
  {
   "cell_type": "code",
   "execution_count": 1,
   "metadata": {},
   "outputs": [],
   "source": [
    "# Libraries\n",
    "import pandas as pd\n",
    "import numpy as np\n",
    "import matplotlib\n",
    "import matplotlib.pyplot as plt"
   ]
  },
  {
   "cell_type": "code",
   "execution_count": 2,
   "metadata": {},
   "outputs": [],
   "source": [
    "# Class constants\n",
    "DIRECTORY = \"/dors/capra_lab/users/yand1/te_ml/\"\n",
    "DATE = \"2018_06_29_kmers_enhancers_intersect/\"\n",
    "DATA_FILE = \"hervs_kmers_features_matrix.tsv\" # File with input\n",
    "WRITE_FILE = \"kmers_distribution.png\" # File to store histogram"
   ]
  },
  {
   "cell_type": "code",
   "execution_count": null,
   "metadata": {},
   "outputs": [],
   "source": [
    "def plot_histogram(dist):\n",
    "    \"\"\"Plot a histogram from the given distribution of kmers and saves to WRITE_FILE \n",
    "    \n",
    "    Args:\n",
    "        dist(pd.Series): Distribution of kmer counts to plot\n",
    "    \"\"\"\n",
    "    matplotlib.use(\"Agg\") # Avoid display error\n",
    "    plt.figure() # Create plot\n",
    "    plt.hist(dist) # Send distribution of kmers to histogram\n",
    "    plt.xlabel(\"Repetitions 6-mers within HERVs\")\n",
    "    plt.ylabel(\"Number of 6-mers\")\n",
    "    plt.title(\"6-mer counts within HERVs\")\n",
    "    plt.savefig(DIRECTORY + \"results/\" + DATE + WRITE_FILE)"
   ]
  },
  {
   "cell_type": "code",
   "execution_count": null,
   "metadata": {},
   "outputs": [],
   "source": [
    "def main():\n",
    "    \"\"\"Main function\n",
    "    \"\"\"\n",
    "    # Read in features matrix as dataframe \n",
    "    features_df = pd.read_table(DIRECTORY + \"data/\" + \"2018_06_29_kmers_enhancers_intersect/\" +\n",
    "                               DATA_FILE)\n",
    "    \n",
    "    # Remove the chromsome, start, and end locations to only get kmer counts\n",
    "    features_df.drop([\"chr\", \"start\", \"end\"], axis = \"columns\", inplace = True)\n",
    "    \n",
    "    # Get the sum of each column of kmers\n",
    "    kmers_sum = features_df.sum(axis = \"columns\").values\n",
    "    \n",
    "    # Plot the histogram\n",
    "    plot_histogram(kmers_sum)"
   ]
  },
  {
   "cell_type": "code",
   "execution_count": null,
   "metadata": {},
   "outputs": [],
   "source": [
    "# Call main to run \n",
    "main()"
   ]
  }
 ],
 "metadata": {
  "kernelspec": {
   "display_name": "Python 3",
   "language": "python",
   "name": "python3"
  },
  "language_info": {
   "codemirror_mode": {
    "name": "ipython",
    "version": 3
   },
   "file_extension": ".py",
   "mimetype": "text/x-python",
   "name": "python",
   "nbconvert_exporter": "python",
   "pygments_lexer": "ipython3",
   "version": "3.6.4"
  }
 },
 "nbformat": 4,
 "nbformat_minor": 2
}
