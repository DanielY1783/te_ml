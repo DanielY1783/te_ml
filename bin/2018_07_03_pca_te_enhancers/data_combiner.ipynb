{
 "cells": [
  {
   "cell_type": "markdown",
   "metadata": {},
   "source": [
    "Combines files containing rows with the same column together either on the rows or columns. Output file has no index.\n",
    "\n",
    "Combine can be used a module. If run as a standalone script, it combines all the files at /dors/capra_lab/users/yand1/te_ml/data/2018_07_03_pca_te_enhancers/batch_output\n",
    "and stores to \n",
    "/dors/capra_lab/users/yand1/te_ml/data/2018_07_03_pca_te_enhancers/features_matrix.tsv"
   ]
  },
  {
   "cell_type": "code",
   "execution_count": null,
   "metadata": {},
   "outputs": [],
   "source": [
    "# Libraries\n",
    "import pandas as pd"
   ]
  },
  {
   "cell_type": "code",
   "execution_count": null,
   "metadata": {},
   "outputs": [],
   "source": [
    "def combine(file_list, header, output_file, axis, sep ='\\t', index = False):\n",
    "    \"\"\"Combines rows of the files together on the given axis and saves to output_file.\n",
    "    Output file has header if input had header. No index in output file.\n",
    "    \n",
    "    Args:\n",
    "        file_list(list): List of files with same columns\n",
    "        header(boolean): True if the files have a header, false otherwise\n",
    "        output_file(string): Name of file to save to\n",
    "        axis(string): Concatenate on rows or columns\n",
    "        sep(string): Seperator for columns in output file\n",
    "        index(boolean): True if output file needs index, false otherwise \n",
    "    \"\"\"\n",
    "    # List to store all the data frames to concatenate\n",
    "    frames_list = []\n",
    "    \n",
    "    # Open files and save files differently depending on if there is a header\n",
    "    if header:\n",
    "        # Read in all files\n",
    "        for file in file_list:\n",
    "            frames_list.append(pd.read_table(file))\n",
    "    else:\n",
    "        # Read in all files\n",
    "        for file in file_list:\n",
    "            frames_list.append(pd.read_table(file), header = None)\n",
    "            \n",
    "    # Combine and save\n",
    "    pd.concat(frames_list, axis = axis).to_csv(output_file, sep = sep,\n",
    "                                                index = index, header = header)\n",
    "        "
   ]
  },
  {
   "cell_type": "code",
   "execution_count": null,
   "metadata": {},
   "outputs": [],
   "source": [
    "if __name__ == \"__main__\":\n",
    "    file_list = []\n",
    "    for i in range(100):\n",
    "        file_list.append(\"/dors/capra_lab/users/yand1/te_ml/data/2018_06_28_kmers_faster/batch_output/hervs_hg19_feature_matrix_{}.tsv\".format(i))\n",
    "    combine(file_list = file_list, header = False, \n",
    "            output_file = \"/dors/capra_lab/users/yand1/te_ml/results/2018_07_03_pca_te_enhancers/test.tsv\",\n",
    "            axis = \"columns\")"
   ]
  }
 ],
 "metadata": {
  "kernelspec": {
   "display_name": "Python 3",
   "language": "python",
   "name": "python3"
  },
  "language_info": {
   "codemirror_mode": {
    "name": "ipython",
    "version": 3
   },
   "file_extension": ".py",
   "mimetype": "text/x-python",
   "name": "python",
   "nbconvert_exporter": "python",
   "pygments_lexer": "ipython3",
   "version": "3.6.4"
  }
 },
 "nbformat": 4,
 "nbformat_minor": 2
}
