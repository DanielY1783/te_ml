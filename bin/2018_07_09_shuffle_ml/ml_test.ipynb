{
 "cells": [
  {
   "cell_type": "markdown",
   "metadata": {},
   "source": [
    "Module version of train/test split, cross validation, and predictions with a scikit learn machine learning model.\n",
    "\n",
    "This version can also be used as as standalone script on the features matrix at:\n",
    "/dors/capra_lab/users/yand1/te_ml/data/2018_07_06_genome_shuffle/all_pairs_feature_matrix.tsv"
   ]
  },
  {
   "cell_type": "code",
   "execution_count": 1,
   "metadata": {},
   "outputs": [
    {
     "data": {
      "text/plain": [
       "'Provides a test_model function that performs train/test split, cross validation, and prediction metrics.\\n\\nFunctions:\\n    test_model(x, y, model, results_directory = \"\", model_name = \"ml\"): Performs train/test split.\\n        Calls cross_validate to perform cross validation and predictions to generate predictions\\n        on the testing set and store metrics.\\n        \\n    cross_validate(model, x, y, results_directory = \"\", model_name = \"ml\", cross_val = CROSS_VAL):\\n        Performs cross validation and store results to file.\\n    \\n    predictions(model, x_train, y_train, x_test, y_test, results_directory = \"\", model_name = \"ml\"):\\n        Trains model on training set, generates predictions using test set, and save \\n        metrics to file.\\n    \\n'"
      ]
     },
     "execution_count": 1,
     "metadata": {},
     "output_type": "execute_result"
    }
   ],
   "source": [
    "\"\"\"Provides a test_model function that performs train/test split, cross validation, and prediction metrics.\n",
    "\n",
    "Functions:\n",
    "    test_model(x, y, model, results_directory = \"\", model_name = \"ml\"): Performs train/test split.\n",
    "        Calls cross_validate to perform cross validation and predictions to generate predictions\n",
    "        on the testing set and store metrics.\n",
    "        \n",
    "    cross_validate(model, x, y, results_directory = \"\", model_name = \"ml\", cross_val = CROSS_VAL):\n",
    "        Performs cross validation and store results to file.\n",
    "    \n",
    "    predictions(model, x_train, y_train, x_test, y_test, results_directory = \"\", model_name = \"ml\"):\n",
    "        Trains model on training set, generates predictions using test set, and saves \n",
    "        metrics to file.\n",
    "\"\"\""
   ]
  },
  {
   "cell_type": "code",
   "execution_count": 2,
   "metadata": {},
   "outputs": [],
   "source": [
    "# Import needed libraries\n",
    "import pandas as pd # For writing results\n",
    "from sklearn import metrics # Get model metrics\n",
    "from sklearn.model_selection import train_test_split # For data splitting\n",
    "from sklearn.model_selection import cross_val_score # Cross validation"
   ]
  },
  {
   "cell_type": "code",
   "execution_count": 3,
   "metadata": {},
   "outputs": [],
   "source": [
    "# Class constants \n",
    "CROSS_VAL = 10 # Number of subdivisions of data for cross validation"
   ]
  },
  {
   "cell_type": "code",
   "execution_count": 4,
   "metadata": {},
   "outputs": [],
   "source": [
    "def test_model(x, y, model, results_directory = \"\", model_name = \"ml\"):\n",
    "    \"\"\"Creates and tests a random forest model\n",
    "    \n",
    "    Performs a train/test split on the input(x) and predictor(y). Performs cross validation\n",
    "    on the training set with macro f1 score and prints results to directory. Trains using \n",
    "    training set and then generates predictions using the testing set for more metrics,\n",
    "    which are also stored to the directory.\n",
    "    \n",
    "    Keyword Arguments:\n",
    "        x: Input matrix for machine learning\n",
    "        y: Prediction vector for machine learning\n",
    "        model: Scikit-learn machine learning model to use\n",
    "        results_directory: String containing name of directory to write results to (default working directory)\n",
    "        model_name: String containing name of model to use for choosing file names (default ml)\n",
    "    \"\"\"\n",
    "    x_train, x_test, y_train, y_test = train_test_split(x, y)\n",
    "    \n",
    "    cross_validate(model = model, x = x_train, y = y_train, results_directory = results_directory,\n",
    "                  model_name = model_name)\n",
    "    \n",
    "    predictions(model = model, x_train = x_train, y_train = y_train, x_test = x_test, y_test = y_test\n",
    "               , results_directory = results_directory, model_name = model_name)"
   ]
  },
  {
   "cell_type": "code",
   "execution_count": 5,
   "metadata": {},
   "outputs": [],
   "source": [
    "def cross_validate(model, x, y, results_directory = \"\", model_name = \"ml\", cross_val = CROSS_VAL):\n",
    "    \"\"\"Performs k-fold cross validation on the model and prints results to file.\n",
    "    \n",
    "    Args:\n",
    "        model: Scikit-learn machine Learning model to test\n",
    "        x: Features matrix for model.\n",
    "        y: Prediction vector for model.\n",
    "        results_directory: String containing directory to write cross validation scores to (default working directory)\n",
    "        model_name: String containing name of the model used in choosing filename to write to (default ml)\n",
    "        cross_val: Integer k value to use for cross validation (default is CROSS_VAL)\n",
    "    \"\"\"\n",
    "    # Test random forest model using cross validation.\n",
    "    cvs = cross_val_score(model, x, y, scoring = \"f1_macro\", cv = CROSS_VAL)\n",
    "    \n",
    "    # Print the cross validation scores to a file.\n",
    "    cvs_df = pd.DataFrame(data = cvs, columns = [\"f1 score\"])\n",
    "    cvs_df.to_csv((results_directory + model_name + \"_cross_val_scores.tsv\"), \n",
    "                  sep = '\\t', index = False)"
   ]
  },
  {
   "cell_type": "code",
   "execution_count": 6,
   "metadata": {},
   "outputs": [],
   "source": [
    "def predictions(model, x_train, y_train, x_test, y_test, results_directory = \"\", model_name = \"ml\"):\n",
    "    \"\"\"Trains and generates predictions from the given model and prints out metrics.\n",
    "    \n",
    "    Args:\n",
    "        model: Scikit-learn machine Learning model to test\n",
    "        x_train: Features matrix used in training\n",
    "        y_train: Feature to predict used in training\n",
    "        x_test: Features matrix used in prediction\n",
    "        y_test: Actual values in testing set to compare to predictions\n",
    "        results_directory: String containing name of directory to write to (default working directory)\n",
    "        model_name: String containing name of the model used in choosing filename to write to (default ml)\n",
    "    \"\"\"\n",
    "    # Train the model on training data.\n",
    "    model.fit(x_train, y_train)\n",
    "    \n",
    "    # Use the model to predict the test set.\n",
    "    y_pred = model.predict(x_test)\n",
    "    \n",
    "    # Create a confusion matrix and write to file.\n",
    "    cm_df = pd.DataFrame(metrics.confusion_matrix(y_test, y_pred), \n",
    "                         index = [\"actual_negative\", \"actual_positive\"], \n",
    "                         columns = [\"predicted_negative\", \"predicted_positive\"])\n",
    "    cm_df.to_csv(results_directory + model_name + \"_confusion_matrix.tsv\", sep = '\\t')\n",
    "    \n",
    "    # Create a file to store metrics.\n",
    "    with open((results_directory + model_name + \"_metrics.txt\"), \"w+\") as metrics_file:\n",
    "        metrics_file.write(metrics.classification_report(y_test, y_pred))"
   ]
  },
  {
   "cell_type": "code",
   "execution_count": 7,
   "metadata": {},
   "outputs": [],
   "source": [
    "if __name__ == \"__main__\":\n",
    "    \"\"\"Main\n",
    "    \"\"\"\n",
    "    from sklearn.ensemble import RandomForestClassifier # Try random forest\n",
    "    \n",
    "    # Read in data file\n",
    "    features_df = pd.read_table(\"/dors/capra_lab/users/yand1/te_ml/data/2018_07_06_genome_shuffle/all_pairs_features_matrix.tsv\")\n",
    "    \n",
    "    # Get \"x\" and \"y\" for machine learning input.\n",
    "    x_df = features_df.iloc[:,5:4100]\n",
    "    y_df = features_df.iloc[:,3]\n",
    "    \n",
    "    # Create a random forest classifier model to test. -1 to parallelize.\n",
    "    rfc = RandomForestClassifier(n_estimators = 100, n_jobs = -1)\n",
    "    \n",
    "    # Test the model\n",
    "    test_model(x = x_df, y = y_df, model = rfc, \n",
    "              results_directory = \"/dors/capra_lab/users/yand1/te_ml/results/2018_07_09_shuffle_ml/\",\n",
    "              model_name = \"rf\")"
   ]
  }
 ],
 "metadata": {
  "kernelspec": {
   "display_name": "Python 3",
   "language": "python",
   "name": "python3"
  },
  "language_info": {
   "codemirror_mode": {
    "name": "ipython",
    "version": 3
   },
   "file_extension": ".py",
   "mimetype": "text/x-python",
   "name": "python",
   "nbconvert_exporter": "python",
   "pygments_lexer": "ipython3",
   "version": "3.6.4"
  }
 },
 "nbformat": 4,
 "nbformat_minor": 2
}
