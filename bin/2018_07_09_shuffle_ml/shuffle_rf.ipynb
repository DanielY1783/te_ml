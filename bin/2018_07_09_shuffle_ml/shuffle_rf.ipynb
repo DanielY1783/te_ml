{
 "cells": [
  {
   "cell_type": "markdown",
   "metadata": {},
   "source": [
    "Tests random forest classifier for HERVs vs general parts of the genome."
   ]
  },
  {
   "cell_type": "code",
   "execution_count": 1,
   "metadata": {},
   "outputs": [],
   "source": [
    "# Import needed libraries\n",
    "import pandas as pd # For getting data\n",
    "from sklearn.ensemble import RandomForestClassifier # Random forest\n",
    "# Import module for testing the model\n",
    "import ml_test"
   ]
  },
  {
   "cell_type": "code",
   "execution_count": 2,
   "metadata": {},
   "outputs": [],
   "source": [
    "def main():\n",
    "    \"\"\"Main\n",
    "    \"\"\"\n",
    "    # Read in data file\n",
    "    features_df = pd.read_table(\"/dors/capra_lab/users/yand1/te_ml/data/2018_07_06_genome_shuffle/all_pairs_features_matrix.tsv\")\n",
    "    \n",
    "    # Get \"x\" and \"y\" for machine learning input.\n",
    "    x_df = features_df.iloc[:,5:4100]\n",
    "    y_df = features_df.iloc[:,3]\n",
    "    \n",
    "    # Create a random forest classifier model to test. -1 to parallelize.\n",
    "    rfc = RandomForestClassifier(n_estimators = 100, n_jobs = -1)\n",
    "    \n",
    "    # Test the model\n",
    "    ml_test.test_model(x = x_df, y = y_df, model = rfc, \n",
    "              results_directory = \"/dors/capra_lab/users/yand1/te_ml/results/2018_07_09_shuffle_ml/\",\n",
    "              model_name = \"rf\")"
   ]
  },
  {
   "cell_type": "code",
   "execution_count": 3,
   "metadata": {},
   "outputs": [],
   "source": [
    "# Call main to run\n",
    "main()"
   ]
  }
 ],
 "metadata": {
  "kernelspec": {
   "display_name": "Python 3",
   "language": "python",
   "name": "python3"
  },
  "language_info": {
   "codemirror_mode": {
    "name": "ipython",
    "version": 3
   },
   "file_extension": ".py",
   "mimetype": "text/x-python",
   "name": "python",
   "nbconvert_exporter": "python",
   "pygments_lexer": "ipython3",
   "version": "3.6.4"
  }
 },
 "nbformat": 4,
 "nbformat_minor": 2
}
