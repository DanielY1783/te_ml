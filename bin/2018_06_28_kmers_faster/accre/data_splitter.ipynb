{
 "cells": [
  {
   "cell_type": "markdown",
   "metadata": {},
   "source": [
    "Splits the HERV data at /dors/capra_lab/users/yand1/te_ml/data/2018_06_26_kmers_hervs_chromehmm/hervs_hg19.tsv \n",
    "into smaller files, with the number of the file appended before .tsv\n",
    "(for example, hervs_hg19_1.tsv)\n",
    "Smaller files are saved to /dors/capra_lab/users/yand1/te_ml/data/2018_06_28_kmers_faster/batch_input"
   ]
  },
  {
   "cell_type": "code",
   "execution_count": 1,
   "metadata": {},
   "outputs": [],
   "source": [
    "# Libraries\n",
    "import pandas as pd # Data manipulation "
   ]
  },
  {
   "cell_type": "code",
   "execution_count": 2,
   "metadata": {},
   "outputs": [],
   "source": [
    "# Class constants\n",
    "DIRECTORY = \"/dors/capra_lab/users/yand1/te_ml/\" # Root directory for project\n",
    "DATE = \"2018_06_28_kmers_faster/\"\n",
    "DATA_FILE = \"hervs_hg19.tsv\"\n",
    "SPLITS = 100 # Number of files to make"
   ]
  },
  {
   "cell_type": "code",
   "execution_count": 3,
   "metadata": {},
   "outputs": [],
   "source": [
    "def main():\n",
    "    # Read in file as pandas dataframe\n",
    "    hervs_df = pd.read_table(DIRECTORY + \"data/\" + \"2018_06_26_kmers_hervs_chromehmm/\" + DATA_FILE, header = None)\n",
    "    \n",
    "    # Store number of rows in data file.\n",
    "    rows_num = hervs_df.shape[0]\n",
    "    \n",
    "    # Split data frame into parts.\n",
    "    for i in range(SPLITS):\n",
    "        start_row = i * (rows_num/SPLITS)\n",
    "        end_row = (i + 1) * (rows_num/SPLITS)\n",
    "        temp_df = hervs_df.loc[start_row:end_row,]\n",
    "        # Save to file\n",
    "        temp_df.to_csv(DIRECTORY + \"data/\" + DATE + \"/batch_input/hervs_hg19_\" + str(i) + \".tsv\", \n",
    "                       sep = '\\t', index = False, header = False)"
   ]
  },
  {
   "cell_type": "code",
   "execution_count": 4,
   "metadata": {},
   "outputs": [],
   "source": [
    "# Call main to run\n",
    "main()"
   ]
  }
 ],
 "metadata": {
  "kernelspec": {
   "display_name": "Python 3",
   "language": "python",
   "name": "python3"
  },
  "language_info": {
   "codemirror_mode": {
    "name": "ipython",
    "version": 3
   },
   "file_extension": ".py",
   "mimetype": "text/x-python",
   "name": "python",
   "nbconvert_exporter": "python",
   "pygments_lexer": "ipython3",
   "version": "3.6.4"
  }
 },
 "nbformat": 4,
 "nbformat_minor": 2
}
