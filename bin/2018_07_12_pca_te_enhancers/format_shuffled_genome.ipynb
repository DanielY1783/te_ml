{
 "cells": [
  {
   "cell_type": "markdown",
   "metadata": {},
   "source": [
    "Name: Daniel Yan\n",
    "\n",
    "Email: daniel.yan@vanderbilt.edu\n",
    "\n",
    "Finds the shuffled parts of the human genome within the features matrices in files 50-99 from /dors/capra_lab/users/yand1/te_ml/data/2018_07_11_pca_te_enhancers/batch_output\n",
    "and normalize them by dividing by the number of base pairs. Store the new features matrix containing only information about shuffled parts of the human genome to a /dors/capra_lab/users/yand1/te_ml/data/2018_07_12_pca_te_enhancers/shuffled_features_matrix.tsv"
   ]
  },
  {
   "cell_type": "code",
   "execution_count": null,
   "metadata": {},
   "outputs": [],
   "source": [
    "# Libraries\n",
    "import pandas as pd"
   ]
  },
  {
   "cell_type": "code",
   "execution_count": null,
   "metadata": {},
   "outputs": [],
   "source": [
    "Class Normalizer:\n",
    "    \"\"\"\n",
    "    Normalizes a k-mers features matrix by the length of each sequence (stored in each row).\n",
    "    \n",
    "    Attributes:\n",
    "        df: Pandas dataframe to normalize\n",
    "        pairs_col: Integer column within the features matrix where the base pairs are stored\n",
    "        normalize_cols: List intgers containing column numbers to normalize by dividing \n",
    "            by length in pairs_col\n",
    "        _normalized: Boolean value for if object has been normalized\n",
    "    \"\"\"\n",
    "    def __init__(self, df, pairs_col, normalize_cols):\n",
    "        \"\"\"\n",
    "        Sets the data frame and the integer column number of the base pairs within the data frame\n",
    "        for the Normalizer object. Sets internal _normalized flag to false to note that data frame\n",
    "        has not been normalized.\n",
    "        \n",
    "        Keyword Arguments:\n",
    "            self: Normalizer object passed to itself\n",
    "            df: Pandas data frame to normalize\n",
    "            pairs_col: Integer column within the features matrix where the base pairs are stored\n",
    "            normalize_cols: List intgers containing column numbers to normalize by dividing \n",
    "                by length in pairs_col\n",
    "        \"\"\"\n",
    "        self.df = df\n",
    "        self.pairs_col = pairs_col\n",
    "        self.normalize_cols = normalize_cols\n",
    "        self._normalized = False\n",
    "        \n",
    "    def normalize_counts():\n",
    "    \"\"\"\n",
    "    Normalize all kmer counts by dividing by the total number of base pairs\n",
    "    \n",
    "    Keyword Arguments:\n",
    "        df: Data frame to normalize counts\n",
    "        pairs_col: Integer column number that contains strings to normalize counts by\n",
    "    \n",
    "    Returns:\n",
    "        Data frame with \n",
    "    \"\"\"\n",
    "    # Normalize counts by dividing kmer counts in each row by the number of bases\n",
    "    df = df.apply(normalize_row, axis = \"columns\")\n",
    "    return df"
   ]
  },
  {
   "cell_type": "code",
   "execution_count": null,
   "metadata": {},
   "outputs": [],
   "source": [
    "def normalize_row(row):\n",
    "    \"\"\"\n",
    "    Divides the count of kmers by the number of pairs to get normalized value for PCA\n",
    "    \n",
    "    Args:\n",
    "        row(pd.Series): Single row representing a HERV with counts of k-mers\n",
    "        \n",
    "    Return:\n",
    "        row(pd.Series): Row that has k-mer counts divided by number of base pairs\n",
    "    \"\"\"\n",
    "    # Get number of pairs in current row\n",
    "    pairs_length = len(row[PAIRS])\n",
    "    \n",
    "    # Update k-kmer counts\n",
    "    for i in range(PAIRS + 1, len(row)):\n",
    "        row.iloc[i] = (row.iloc[i])/pairs_length\n",
    "    \n",
    "    return row"
   ]
  },
  {
   "cell_type": "code",
   "execution_count": null,
   "metadata": {},
   "outputs": [],
   "source": [
    "def combine(file_list, axis = \"index\"):\n",
    "    \"\"\"\n",
    "    Combines rows of the files together on the given axis and returns combined data frame\n",
    "    \n",
    "    Args:\n",
    "        file_list(list): List of files with same columns\n",
    "        axis(string): Concatenate on index or columns\n",
    "    \"\"\"\n",
    "    # List to store all the data frames to concatenate\n",
    "    frames_list = []\n",
    "    \n",
    "    # Read in all files\n",
    "    for file in file_list:\n",
    "        frames_list.append(pd.read_table(file))\n",
    "            \n",
    "    # Combine data frames      \n",
    "    return pd.concat(frames_list, axis = axis) "
   ]
  },
  {
   "cell_type": "code",
   "execution_count": null,
   "metadata": {},
   "outputs": [],
   "source": [
    "if __name__ == \"__main__\"\n",
    "    # List of files to combine\n",
    "    file_list = []\n",
    "    \n",
    "    # Directory the files are in \n",
    "    directory = \"/dors/capra_lab/users/yand1/te_ml/data/2018_07_11_pca_te_enhancers/batch_output/\"\n",
    "    \n",
    "    # Generate list of files with shuffled human genome data to combine\n",
    "    for i in range(50):\n",
    "        file_list.append(directory + \"shuffle_{}_features_matrix.tsv\".format(i))\n",
    "        \n",
    "    # Get combined data frame\n",
    "    print(\"Combining files...\")\n",
    "    combined_df = combine(file_list)\n",
    "    \n",
    "    # Normalize counts \n",
    "    print(\"Normalizing counts...\")\n",
    "    combined_df = normalize_counts(combined_df)\n",
    "    \n",
    "    # Save to new file\n",
    "    combined_df.to_csv(\"/dors/capra_lab/users/yand1/te_ml/data/2018_07_11_pca_te_enhancers/shuffled_features_matrix.tsv\",\n",
    "                      header = False, Index = False, sep = '\\t')"
   ]
  }
 ],
 "metadata": {
  "kernelspec": {
   "display_name": "Python 3",
   "language": "python",
   "name": "python3"
  },
  "language_info": {
   "codemirror_mode": {
    "name": "ipython",
    "version": 3
   },
   "file_extension": ".py",
   "mimetype": "text/x-python",
   "name": "python",
   "nbconvert_exporter": "python",
   "pygments_lexer": "ipython3",
   "version": "3.6.4"
  }
 },
 "nbformat": 4,
 "nbformat_minor": 2
}
