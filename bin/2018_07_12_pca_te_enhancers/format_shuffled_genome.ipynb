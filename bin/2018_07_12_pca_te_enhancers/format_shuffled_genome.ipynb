{
 "cells": [
  {
   "cell_type": "markdown",
   "metadata": {},
   "source": [
    "Name: Daniel Yan\n",
    "\n",
    "Email: daniel.yan@vanderbilt.edu\n",
    "\n",
    "Finds the shuffled parts of the human genome within the features matrices in files 50-99 from /dors/capra_lab/users/yand1/te_ml/data/2018_07_11_pca_te_enhancers/batch_output\n",
    "and normalize them by dividing by the number of base pairs. Store the new features matrix containing only information about shuffled parts of the human genome to a /dors/capra_lab/users/yand1/te_ml/data/2018_07_12_pca_te_enhancers/shuffled_features_matrix.tsv"
   ]
  },
  {
   "cell_type": "code",
   "execution_count": 1,
   "metadata": {},
   "outputs": [],
   "source": [
    "# Libraries\n",
    "import pandas as pd\n",
    "import reformat_df"
   ]
  },
  {
   "cell_type": "code",
   "execution_count": null,
   "metadata": {},
   "outputs": [],
   "source": [
    "def combine(file_list, axis = \"index\"):\n",
    "    \"\"\"\n",
    "    Combines rows of the files together on the given axis and returns combined data frame\n",
    "    \n",
    "    Args:\n",
    "        file_list(list): List of files with same columns\n",
    "        axis(string): Concatenate on index or columns\n",
    "    \"\"\"\n",
    "    # List to store all the data frames to concatenate\n",
    "    frames_list = []\n",
    "    \n",
    "    # Read in all files\n",
    "    for file in file_list:\n",
    "        frames_list.append(pd.read_table(file))\n",
    "            \n",
    "    # Combine data frames      \n",
    "    return pd.concat(frames_list, axis = axis) "
   ]
  },
  {
   "cell_type": "code",
   "execution_count": null,
   "metadata": {},
   "outputs": [
    {
     "name": "stdout",
     "output_type": "stream",
     "text": [
      "Combining files...\n",
      "Normalizing counts...\n"
     ]
    }
   ],
   "source": [
    "if __name__ == \"__main__\":\n",
    "    # List of files to combine\n",
    "    file_list = []\n",
    "    \n",
    "    # Directory the files are in \n",
    "    directory = \"/dors/capra_lab/users/yand1/te_ml/data/2018_07_11_pca_te_enhancers/batch_output/\"\n",
    "    \n",
    "    # Generate list of files with shuffled human genome data to combine\n",
    "    for i in range(50):\n",
    "        file_list.append(directory + \"shuffle_{}_features_matrix.tsv\".format(i + 50))\n",
    "        \n",
    "    # Get combined data frame\n",
    "    print(\"Combining files...\")\n",
    "    combined_df = combine(file_list)\n",
    "    \n",
    "    # Normalize counts \n",
    "    print(\"Normalizing counts...\")\n",
    "    reformat_df.normalize(combined_df, lengths_col = 4, normalize_cols = list(range(5, 4101)))\n",
    "    \n",
    "    # Save to new file\n",
    "    combined_df.to_csv(\"/dors/capra_lab/users/yand1/te_ml/data/2018_07_11_pca_te_enhancers/shuffled_features_matrix.tsv\",\n",
    "                      header = False, Index = False, sep = '\\t')"
   ]
  }
 ],
 "metadata": {
  "kernelspec": {
   "display_name": "Python 3",
   "language": "python",
   "name": "python3"
  },
  "language_info": {
   "codemirror_mode": {
    "name": "ipython",
    "version": 3
   },
   "file_extension": ".py",
   "mimetype": "text/x-python",
   "name": "python",
   "nbconvert_exporter": "python",
   "pygments_lexer": "ipython3",
   "version": "3.6.4"
  }
 },
 "nbformat": 4,
 "nbformat_minor": 2
}
