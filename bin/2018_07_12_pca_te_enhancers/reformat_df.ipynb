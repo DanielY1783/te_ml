{
 "cells": [
  {
   "cell_type": "markdown",
   "metadata": {},
   "source": [
    "Name: Daniel Yan\n",
    "\n",
    "Email: daniel.yan@vanderbilt.edu\n",
    "\n",
    "Classes and/or functions used to reformat pandas dataframes."
   ]
  },
  {
   "cell_type": "code",
   "execution_count": null,
   "metadata": {},
   "outputs": [],
   "source": [
    "Class Normalizer:\n",
    "    \"\"\"\n",
    "    Normalizes a features matrix by the length of each sequence in a certain column.\n",
    "    \n",
    "    Attributes:\n",
    "        df: Pandas dataframe to normalize\n",
    "        pairs_col: Integer column within the features matrix containing element to normalize length by\n",
    "        normalize_cols: List intgers containing column numbers to normalize by dividing \n",
    "            by length of sequence in pairs_col\n",
    "        _normalized: Boolean value for if object has been normalized\n",
    "    \"\"\"\n",
    "    def __init__(self, df, pairs_col, normalize_cols):\n",
    "        \"\"\"\n",
    "        Sets the data frame and the integer column number of the base pairs within the data frame\n",
    "        for the Normalizer object. Sets internal _normalized flag to false to note that data frame\n",
    "        has not been normalized.\n",
    "        \n",
    "        Keyword Arguments:\n",
    "            self: Normalizer object passed to itself\n",
    "            df: Pandas data frame to normalize\n",
    "            pairs_col: Integer column within the features matrix where the base pairs are stored\n",
    "            normalize_cols: List intgers containing column numbers to normalize by dividing \n",
    "                by length in pairs_col\n",
    "        \"\"\"\n",
    "        self.df = df\n",
    "        self.pairs_col = pairs_col\n",
    "        self.normalize_cols = normalize_cols\n",
    "        self._normalized = False\n",
    "        \n",
    "    def normalize_counts(self):\n",
    "    \"\"\"\n",
    "    Normalize all kmer counts by dividing by the total number of base pairs\n",
    "    \n",
    "    Keyword Arguments:\n",
    "        self: Normalizer object passed to itself\n",
    "    \n",
    "    Returns:\n",
    "        Normalized dataframe contained in self.df\n",
    "    \"\"\"\n",
    "    # Normalize counts by dividing kmer counts in each row by the number of bases\n",
    "    df = df.div()"
   ]
  }
 ],
 "metadata": {
  "kernelspec": {
   "display_name": "Python 3",
   "language": "python",
   "name": "python3"
  },
  "language_info": {
   "codemirror_mode": {
    "name": "ipython",
    "version": 3
   },
   "file_extension": ".py",
   "mimetype": "text/x-python",
   "name": "python",
   "nbconvert_exporter": "python",
   "pygments_lexer": "ipython3",
   "version": "3.6.4"
  }
 },
 "nbformat": 4,
 "nbformat_minor": 2
}
