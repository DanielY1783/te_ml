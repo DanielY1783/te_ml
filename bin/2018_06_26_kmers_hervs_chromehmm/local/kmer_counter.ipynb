{
 "cells": [
  {
   "cell_type": "markdown",
   "metadata": {},
   "source": [
    "Counts k-mers for each herv by reading in file with base pairs for HERVS at /dors/capra_lab/users/yand1/te_ml/data/2018_06_26_kmers_hervs_chromehmm/hervs_hg19.tsv\n",
    "and creating a count for each 6mer and saving to \n",
    "/dors/capra_lab/users/yand1/te_ml/data/2018_06_26_kmers_hervs_chromehmm/hervs_hg19_6mers.tsv"
   ]
  },
  {
   "cell_type": "code",
   "execution_count": null,
   "metadata": {},
   "outputs": [],
   "source": [
    "# Libraries\n",
    "import pandas as pd"
   ]
  },
  {
   "cell_type": "code",
   "execution_count": null,
   "metadata": {},
   "outputs": [],
   "source": [
    "# Class constants\n",
    "DIRECTORY = \"../../../\" # Root directory for project\n",
    "DATE = \"2018_06_26_kmers_hervs_chromehmm/\"\n",
    "LOCATION = \"local/\" # Local machine or accre cluster.\n",
    "DATA_FILE = \"hervs_hg19.tsv\"\n",
    "WRITE_FILE = \"hervs_hg19_6mers.tsv\" # File to save results to\n",
    "K = 6 # Length of \"k\" value for k-mer\n",
    "CHR = 0 # Column of chromosome of herv in data file\n",
    "START = 1 # Column of start location of herv in data file\n",
    "END = 2 # Column of end location of herv in data file\n",
    "PAIRS_STR = 3 # Column with string of actual pairs within herv"
   ]
  },
  {
   "cell_type": "code",
   "execution_count": 1,
   "metadata": {},
   "outputs": [
    {
     "ename": "SyntaxError",
     "evalue": "invalid syntax (<ipython-input-1-57f6b75ca33a>, line 2)",
     "output_type": "error",
     "traceback": [
      "\u001b[1;36m  File \u001b[1;32m\"<ipython-input-1-57f6b75ca33a>\"\u001b[1;36m, line \u001b[1;32m2\u001b[0m\n\u001b[1;33m    def main:\u001b[0m\n\u001b[1;37m            ^\u001b[0m\n\u001b[1;31mSyntaxError\u001b[0m\u001b[1;31m:\u001b[0m invalid syntax\n"
     ]
    }
   ],
   "source": [
    "## Main\n",
    "def main():\n",
    "    # Read in file as pandas dataframe\n",
    "    hervs_df = pd.read_table(DIRECTORY + \"data/\" + DATE + DATA_FILE)"
   ]
  },
  {
   "cell_type": "code",
   "execution_count": null,
   "metadata": {},
   "outputs": [],
   "source": [
    "main() # Call main to run"
   ]
  }
 ],
 "metadata": {
  "kernelspec": {
   "display_name": "Python 3",
   "language": "python",
   "name": "python3"
  },
  "language_info": {
   "codemirror_mode": {
    "name": "ipython",
    "version": 3
   },
   "file_extension": ".py",
   "mimetype": "text/x-python",
   "name": "python",
   "nbconvert_exporter": "python",
   "pygments_lexer": "ipython3",
   "version": "3.6.4"
  }
 },
 "nbformat": 4,
 "nbformat_minor": 2
}
