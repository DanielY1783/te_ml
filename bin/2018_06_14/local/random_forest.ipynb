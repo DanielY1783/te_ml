{
 "cells": [
  {
   "cell_type": "code",
   "execution_count": 1,
   "metadata": {},
   "outputs": [],
   "source": [
    "# Import pandas for data combining\n",
    "import pandas as pd"
   ]
  },
  {
   "cell_type": "code",
   "execution_count": 2,
   "metadata": {
    "scrolled": true
   },
   "outputs": [],
   "source": [
    "# Open the transposable elements data as a dataframe.\n",
    "te_df = pd.read_table(\"../../../data/2018_06_12_te_enhancers_ml/test.tsv\", header = None)"
   ]
  },
  {
   "cell_type": "code",
   "execution_count": 3,
   "metadata": {},
   "outputs": [],
   "source": [
    "# Create a data frame to store all the transposable element locations\n",
    "te_loc_df = pd.DataFrame(columns = [\"chr\", \"start\", \"end\"])\n",
    "te_loc_df[\"chr\"] = te_df.iloc[:,0]\n",
    "te_loc_df[\"start\"] = te_df.iloc[:,1]\n",
    "te_loc_df[\"end\"] = te_df.iloc[:,2]\n",
    "\n",
    "# Delete repeats from the data frame.\n",
    "te_new_df = te_loc_df.copy().drop_duplicates()"
   ]
  },
  {
   "cell_type": "code",
   "execution_count": 4,
   "metadata": {},
   "outputs": [],
   "source": [
    "# Get the set of all transcription factors as column labels.\n",
    "col_set = set(te_df.iloc[:,8])\n",
    "\n",
    "# Convert to a list.\n",
    "col_list = list(col_set)  \n",
    "    \n",
    "# Add all the transcription factors as column labels for the new data frame.\n",
    "for tf in col_list:\n",
    "    te_new_df[tf] = 0\n",
    "    \n",
    "# Create a column with 1 or 0 value for if enhancer overlaps transposable element\n",
    "te_new_df[\"enhancer\"] = 0"
   ]
  },
  {
   "cell_type": "code",
   "execution_count": 5,
   "metadata": {},
   "outputs": [],
   "source": [
    "# Iterate through the original dataframe\n",
    "for row in te_df.itertuples():\n",
    "    # Chromosome is now in index 1; start location in index 2; end location in index 3 of row.\n",
    "    # Match chromosome, start location, and end location from the old and new data frames\n",
    "    # and update the corresponding column of the transcription factor in the new data frame.\n",
    "    te_new_df.loc[((te_new_df[\"chr\"] == row[1]) & \n",
    "                (te_new_df[\"start\"] == row[2]) &\n",
    "                (te_new_df[\"end\"] == row[3])), [row[9]]] += 1\n",
    "    \n",
    "    # Update the enhancer column as needed.\n",
    "    if row[14] == \"1\":\n",
    "        te_new_df.loc[((te_new_df[\"chr\"] == row[1]) & \n",
    "                (te_new_df[\"start\"] == row[2]) &\n",
    "                (te_new_df[\"end\"] == row[3])), \"enhancer\"] = 1"
   ]
  },
  {
   "cell_type": "code",
   "execution_count": 6,
   "metadata": {},
   "outputs": [],
   "source": [
    "# Set column for machine learning \"y\" vector as the last one, so all transcription factors plus\n",
    "# three columsn for the locations.\n",
    "end_index = len(col_set) + 3\n",
    "\n",
    "# Set the machine learning input vector as all columns of transcription factors\n",
    "x_df = te_new_df.copy().iloc[:,3:end_index]\n",
    "\n",
    "# Set the machine learning prediction vector as the last column, which tells if enhancer is present\n",
    "y_df = te_new_df.copy().iloc[:,end_index]"
   ]
  },
  {
   "cell_type": "code",
   "execution_count": 7,
   "metadata": {},
   "outputs": [],
   "source": [
    "# Import needed libraries from scikit-learn\n",
    "from sklearn.ensemble import RandomForestClassifier\n",
    "from sklearn.model_selection import cross_val_score"
   ]
  },
  {
   "cell_type": "code",
   "execution_count": 8,
   "metadata": {},
   "outputs": [],
   "source": [
    "# Create a random forest classifier model\n",
    "rfc = RandomForestClassifier(n_estimators = 1000, n_jobs = -1)"
   ]
  },
  {
   "cell_type": "code",
   "execution_count": 9,
   "metadata": {},
   "outputs": [
    {
     "name": "stdout",
     "output_type": "stream",
     "text": [
      "[0.98963731 0.98958333 0.9947644 ]\n"
     ]
    }
   ],
   "source": [
    "# Perform 10-fold cross validation on the random forest model\n",
    "cvs = cross_val_score(rfc, x_df, y_df)\n",
    "print(cvs)"
   ]
  }
 ],
 "metadata": {
  "kernelspec": {
   "display_name": "Python 3",
   "language": "python",
   "name": "python3"
  },
  "language_info": {
   "codemirror_mode": {
    "name": "ipython",
    "version": 3
   },
   "file_extension": ".py",
   "mimetype": "text/x-python",
   "name": "python",
   "nbconvert_exporter": "python",
   "pygments_lexer": "ipython3",
   "version": "3.6.4"
  }
 },
 "nbformat": 4,
 "nbformat_minor": 2
}
