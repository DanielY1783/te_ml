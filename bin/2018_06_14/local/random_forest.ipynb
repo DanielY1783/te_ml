{
 "cells": [
  {
   "cell_type": "code",
   "execution_count": 17,
   "metadata": {},
   "outputs": [],
   "source": [
    "# Import needed libraries\n",
    "import pandas as pd\n",
    "from sklearn import metrics\n",
    "from sklearn.ensemble import RandomForestClassifier\n",
    "from sklearn.model_selection import cross_val_score, cross_val_predict, train_test_split"
   ]
  },
  {
   "cell_type": "code",
   "execution_count": 2,
   "metadata": {
    "scrolled": true
   },
   "outputs": [],
   "source": [
    "# Open the transposable elements data as a dataframe.\n",
    "te_df = pd.read_table(\"../../../data/2018_06_12_te_enhancers_ml/test.tsv\", header = None)"
   ]
  },
  {
   "cell_type": "code",
   "execution_count": 3,
   "metadata": {},
   "outputs": [],
   "source": [
    "# Create a data frame to store all the transposable element locations\n",
    "te_loc_df = pd.DataFrame(columns = [\"chr\", \"start\", \"end\"])\n",
    "te_loc_df[\"chr\"] = te_df.iloc[:,0]\n",
    "te_loc_df[\"start\"] = te_df.iloc[:,1]\n",
    "te_loc_df[\"end\"] = te_df.iloc[:,2]"
   ]
  },
  {
   "cell_type": "code",
   "execution_count": 4,
   "metadata": {},
   "outputs": [],
   "source": [
    "# Delete repeats from the data frame and reindex.\n",
    "te_new_df = te_loc_df.copy().drop_duplicates()\n",
    "te_new_df.index = range(len(te_new_df[\"chr\"])) "
   ]
  },
  {
   "cell_type": "code",
   "execution_count": 5,
   "metadata": {},
   "outputs": [],
   "source": [
    "# Get the set of all transcription factors as column labels.\n",
    "col_set = set(te_df.iloc[:,8])\n",
    "\n",
    "# Convert to a list.\n",
    "col_list = list(col_set)  \n",
    "    \n",
    "# Add all the transcription factors as column labels for the new data frame.\n",
    "for tf in col_list:\n",
    "    te_new_df[tf] = 0\n",
    "    \n",
    "# Create a column for if enhancer overlaps transposable element\n",
    "te_new_df[\"enhancer_actual\"] = 0"
   ]
  },
  {
   "cell_type": "code",
   "execution_count": 6,
   "metadata": {},
   "outputs": [],
   "source": [
    "# Iterate through the original dataframe\n",
    "for row in te_df.itertuples():\n",
    "    # Chromosome is now in index 1; start location in index 2; end location in index 3 of row.\n",
    "    # Match chromosome, start location, and end location from the old and new data frames\n",
    "    # and update the corresponding column of the transcription factor in the new data frame.\n",
    "    te_new_df.loc[((te_new_df[\"chr\"] == row[1]) & \n",
    "                (te_new_df[\"start\"] == row[2]) &\n",
    "                (te_new_df[\"end\"] == row[3])), [row[9]]] += 1\n",
    "    \n",
    "    # Update the enhancer column as needed.\n",
    "    if row[14] == \"1\":\n",
    "        te_new_df.loc[((te_new_df[\"chr\"] == row[1]) & \n",
    "                (te_new_df[\"start\"] == row[2]) &\n",
    "                (te_new_df[\"end\"] == row[3])), \"enhancer_actual\"] = 1"
   ]
  },
  {
   "cell_type": "code",
   "execution_count": 7,
   "metadata": {},
   "outputs": [],
   "source": [
    "# Set column for machine learning \"y\" vector as the last one, so all transcription factors plus\n",
    "# three columsn for the locations.\n",
    "end_index = len(col_set) + 3\n",
    "\n",
    "# Set the machine learning input vector as all columns of transcription factors\n",
    "x_df = te_new_df.copy().iloc[:,3:end_index]\n",
    "\n",
    "# Set the machine learning prediction vector as the last column, which tells if enhancer is present\n",
    "y_actual = te_new_df.copy().iloc[:,end_index]"
   ]
  },
  {
   "cell_type": "code",
   "execution_count": 8,
   "metadata": {},
   "outputs": [],
   "source": [
    "# Create a random forest classifier model\n",
    "rfc = RandomForestClassifier(n_estimators = 1000, n_jobs = -1)"
   ]
  },
  {
   "cell_type": "code",
   "execution_count": 9,
   "metadata": {},
   "outputs": [],
   "source": [
    "# Perform 5-fold cross validation on the random forest model\n",
    "cvs = cross_val_score(rfc, x_df, y_actual, cv = 5)"
   ]
  },
  {
   "cell_type": "code",
   "execution_count": 10,
   "metadata": {},
   "outputs": [],
   "source": [
    "# Print the cross validation scores to a file.\n",
    "cvs_df = pd.DataFrame(data = cvs, index = [\"cvs 1\", \"cvs 2\", \"cvs 3\", \"cvs 4\", \"cvs 5\"], columns = [\"score\"])\n",
    "cvs_df.to_csv(\"../../../results/2018_06_14/local/cross_val_score.csv\", sep = '\\t', index = False)"
   ]
  },
  {
   "cell_type": "code",
   "execution_count": 11,
   "metadata": {},
   "outputs": [],
   "source": [
    "# Create predictions using 5-fold cross validation to view incorrect predictions\n",
    "y_pred = cross_val_predict(rfc, x_df, y_actual, cv = 5)"
   ]
  },
  {
   "cell_type": "code",
   "execution_count": 12,
   "metadata": {},
   "outputs": [],
   "source": [
    "# Convert the prediction results to a dataframe.\n",
    "predictions_df = pd.DataFrame(data = y_pred, columns = [\"enhancer_predicted\"])"
   ]
  },
  {
   "cell_type": "code",
   "execution_count": 13,
   "metadata": {},
   "outputs": [],
   "source": [
    "# Create a dataframe to combine predictions with actual data\n",
    "output_df = pd.DataFrame(te_new_df.copy()[[\"chr\", \"start\", \"end\", \"enhancer_actual\"]])\n",
    "\n",
    "# Copy over predictions and print to csv file\n",
    "output_df[\"enhancer_predicted\"] = predictions_df\n",
    "output_df.to_csv(\"../../../results/2018_06_14/local/predictions.csv\", sep = '\\t')"
   ]
  },
  {
   "cell_type": "code",
   "execution_count": 14,
   "metadata": {},
   "outputs": [],
   "source": [
    "# Create a confusion matrix to view results\n",
    "cm_df = pd.DataFrame(metrics.confusion_matrix(y_actual, y_pred), index = [\"actual_negative\", \"actual_positive\"]\n",
    "                    , columns = [\"predicted_negative\", \"predicted_positive\"])\n",
    "cm_df.to_csv(\"../../../results/2018_06_14/local/confusion_matrix.csv\", sep = '\\t')"
   ]
  },
  {
   "cell_type": "code",
   "execution_count": 15,
   "metadata": {},
   "outputs": [],
   "source": [
    "# Create a file to store metrics\n",
    "metrics_file = open(\"../../../results/2018_06_14/local/metrics.txt\", \"w+\")"
   ]
  },
  {
   "cell_type": "code",
   "execution_count": 16,
   "metadata": {},
   "outputs": [],
   "source": [
    "# Print the f1 score to a file\n",
    "metrics_file.write(\"Recall: \" + str(metrics.recall_score(y_actual, y_pred)))\n",
    "metrics_file.close()"
   ]
  },
  {
   "cell_type": "code",
   "execution_count": 21,
   "metadata": {},
   "outputs": [
    {
     "name": "stdout",
     "output_type": "stream",
     "text": [
      "[[9.35337225e-01 6.46627753e-02]\n",
      " [1.00000000e+00 0.00000000e+00]\n",
      " [1.00000000e+00 0.00000000e+00]\n",
      " [1.00000000e+00 0.00000000e+00]\n",
      " [1.00000000e+00 0.00000000e+00]\n",
      " [9.98221598e-01 1.77840164e-03]\n",
      " [1.00000000e+00 0.00000000e+00]\n",
      " [9.87342396e-01 1.26576036e-02]\n",
      " [9.85137480e-01 1.48625199e-02]\n",
      " [1.00000000e+00 0.00000000e+00]\n",
      " [1.00000000e+00 0.00000000e+00]\n",
      " [9.99987654e-01 1.23456790e-05]\n",
      " [9.85137480e-01 1.48625199e-02]\n",
      " [9.87342396e-01 1.26576036e-02]\n",
      " [1.00000000e+00 0.00000000e+00]\n",
      " [1.00000000e+00 0.00000000e+00]\n",
      " [9.85137480e-01 1.48625199e-02]\n",
      " [9.97728559e-01 2.27144076e-03]\n",
      " [1.00000000e+00 0.00000000e+00]\n",
      " [9.99407540e-01 5.92460317e-04]\n",
      " [9.87342396e-01 1.26576036e-02]\n",
      " [9.85137480e-01 1.48625199e-02]\n",
      " [9.87342396e-01 1.26576036e-02]\n",
      " [9.87342396e-01 1.26576036e-02]\n",
      " [1.00000000e+00 0.00000000e+00]\n",
      " [1.00000000e+00 0.00000000e+00]\n",
      " [1.00000000e+00 0.00000000e+00]\n",
      " [1.00000000e+00 0.00000000e+00]\n",
      " [9.87342396e-01 1.26576036e-02]\n",
      " [1.00000000e+00 0.00000000e+00]\n",
      " [1.00000000e+00 0.00000000e+00]\n",
      " [9.87342396e-01 1.26576036e-02]\n",
      " [9.97770584e-01 2.22941606e-03]\n",
      " [9.87342396e-01 1.26576036e-02]\n",
      " [1.00000000e+00 0.00000000e+00]\n",
      " [1.00000000e+00 0.00000000e+00]\n",
      " [1.00000000e+00 0.00000000e+00]\n",
      " [1.00000000e+00 0.00000000e+00]\n",
      " [1.00000000e+00 0.00000000e+00]\n",
      " [9.87342396e-01 1.26576036e-02]\n",
      " [1.00000000e+00 0.00000000e+00]\n",
      " [1.00000000e+00 0.00000000e+00]\n",
      " [1.00000000e+00 0.00000000e+00]\n",
      " [9.87342396e-01 1.26576036e-02]\n",
      " [9.87342396e-01 1.26576036e-02]\n",
      " [9.99173245e-01 8.26754872e-04]\n",
      " [9.87342396e-01 1.26576036e-02]\n",
      " [1.00000000e+00 0.00000000e+00]\n",
      " [1.00000000e+00 0.00000000e+00]\n",
      " [9.99637467e-01 3.62532955e-04]\n",
      " [9.85137480e-01 1.48625199e-02]\n",
      " [1.00000000e+00 0.00000000e+00]\n",
      " [1.00000000e+00 0.00000000e+00]\n",
      " [1.00000000e+00 0.00000000e+00]\n",
      " [1.00000000e+00 0.00000000e+00]\n",
      " [1.00000000e+00 0.00000000e+00]\n",
      " [9.99987654e-01 1.23456790e-05]\n",
      " [9.87342396e-01 1.26576036e-02]\n",
      " [1.00000000e+00 0.00000000e+00]\n",
      " [9.87342396e-01 1.26576036e-02]\n",
      " [1.00000000e+00 0.00000000e+00]\n",
      " [1.00000000e+00 0.00000000e+00]\n",
      " [9.85137480e-01 1.48625199e-02]\n",
      " [1.00000000e+00 0.00000000e+00]\n",
      " [9.99383041e-01 6.16959229e-04]\n",
      " [1.00000000e+00 0.00000000e+00]\n",
      " [1.00000000e+00 0.00000000e+00]\n",
      " [9.99637467e-01 3.62532955e-04]\n",
      " [9.85137480e-01 1.48625199e-02]\n",
      " [1.00000000e+00 0.00000000e+00]\n",
      " [9.87342396e-01 1.26576036e-02]\n",
      " [1.00000000e+00 0.00000000e+00]\n",
      " [1.00000000e+00 0.00000000e+00]\n",
      " [9.35337225e-01 6.46627753e-02]\n",
      " [1.00000000e+00 0.00000000e+00]\n",
      " [1.00000000e+00 0.00000000e+00]\n",
      " [9.85137480e-01 1.48625199e-02]\n",
      " [9.87342396e-01 1.26576036e-02]\n",
      " [1.00000000e+00 0.00000000e+00]\n",
      " [9.87342396e-01 1.26576036e-02]\n",
      " [1.00000000e+00 0.00000000e+00]\n",
      " [1.00000000e+00 0.00000000e+00]\n",
      " [9.35337225e-01 6.46627753e-02]\n",
      " [1.00000000e+00 0.00000000e+00]\n",
      " [1.00000000e+00 0.00000000e+00]\n",
      " [1.00000000e+00 0.00000000e+00]\n",
      " [9.87342396e-01 1.26576036e-02]\n",
      " [9.85137480e-01 1.48625199e-02]\n",
      " [1.00000000e+00 0.00000000e+00]\n",
      " [9.85137480e-01 1.48625199e-02]\n",
      " [9.87342396e-01 1.26576036e-02]\n",
      " [9.99410699e-01 5.89301056e-04]\n",
      " [1.00000000e+00 0.00000000e+00]\n",
      " [1.00000000e+00 0.00000000e+00]\n",
      " [9.99245863e-01 7.54136752e-04]\n",
      " [1.00000000e+00 0.00000000e+00]\n",
      " [1.00000000e+00 0.00000000e+00]\n",
      " [9.99383041e-01 6.16959229e-04]\n",
      " [9.35337225e-01 6.46627753e-02]\n",
      " [1.00000000e+00 0.00000000e+00]\n",
      " [9.87342396e-01 1.26576036e-02]\n",
      " [9.87342396e-01 1.26576036e-02]\n",
      " [1.00000000e+00 0.00000000e+00]\n",
      " [1.00000000e+00 0.00000000e+00]\n",
      " [1.00000000e+00 0.00000000e+00]\n",
      " [1.00000000e+00 0.00000000e+00]\n",
      " [1.00000000e+00 0.00000000e+00]\n",
      " [9.98918641e-01 1.08135898e-03]\n",
      " [9.87342396e-01 1.26576036e-02]\n",
      " [1.00000000e+00 0.00000000e+00]\n",
      " [1.00000000e+00 0.00000000e+00]\n",
      " [1.00000000e+00 0.00000000e+00]\n",
      " [9.87342396e-01 1.26576036e-02]\n",
      " [9.87342396e-01 1.26576036e-02]\n",
      " [1.00000000e+00 0.00000000e+00]\n",
      " [9.35337225e-01 6.46627753e-02]\n",
      " [1.00000000e+00 0.00000000e+00]\n",
      " [9.87342396e-01 1.26576036e-02]\n",
      " [9.87342396e-01 1.26576036e-02]\n",
      " [1.00000000e+00 0.00000000e+00]\n",
      " [9.99245863e-01 7.54136752e-04]\n",
      " [9.85137480e-01 1.48625199e-02]\n",
      " [1.00000000e+00 0.00000000e+00]\n",
      " [9.87342396e-01 1.26576036e-02]\n",
      " [9.87342396e-01 1.26576036e-02]\n",
      " [1.00000000e+00 0.00000000e+00]\n",
      " [1.00000000e+00 0.00000000e+00]\n",
      " [1.00000000e+00 0.00000000e+00]\n",
      " [9.99792026e-01 2.07974159e-04]\n",
      " [9.87342396e-01 1.26576036e-02]\n",
      " [9.99868144e-01 1.31856156e-04]\n",
      " [9.35337225e-01 6.46627753e-02]\n",
      " [9.35337225e-01 6.46627753e-02]\n",
      " [9.85137480e-01 1.48625199e-02]\n",
      " [9.85137480e-01 1.48625199e-02]\n",
      " [1.00000000e+00 0.00000000e+00]\n",
      " [1.00000000e+00 0.00000000e+00]\n",
      " [1.00000000e+00 0.00000000e+00]\n",
      " [1.00000000e+00 0.00000000e+00]\n",
      " [9.87342396e-01 1.26576036e-02]\n",
      " [1.00000000e+00 0.00000000e+00]\n",
      " [9.99987654e-01 1.23456790e-05]\n",
      " [1.00000000e+00 0.00000000e+00]\n",
      " [9.85137480e-01 1.48625199e-02]]\n"
     ]
    }
   ],
   "source": [
    "# Predict probabilities\n",
    "xtrain, xtest, ytrain, ytest = train_test_split(x_df, y_actual)\n",
    "rfc.fit(xtrain, ytrain)\n",
    "ypred = rfc.predict_proba(xtest)\n",
    "print(ypred)"
   ]
  },
  {
   "cell_type": "code",
   "execution_count": null,
   "metadata": {},
   "outputs": [],
   "source": []
  }
 ],
 "metadata": {
  "kernelspec": {
   "display_name": "Python 3",
   "language": "python",
   "name": "python3"
  },
  "language_info": {
   "codemirror_mode": {
    "name": "ipython",
    "version": 3
   },
   "file_extension": ".py",
   "mimetype": "text/x-python",
   "name": "python",
   "nbconvert_exporter": "python",
   "pygments_lexer": "ipython3",
   "version": "3.6.4"
  }
 },
 "nbformat": 4,
 "nbformat_minor": 2
}
